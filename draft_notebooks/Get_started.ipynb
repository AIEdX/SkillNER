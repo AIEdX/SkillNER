{
 "cells": [
  {
   "cell_type": "code",
   "execution_count": null,
   "source": [
    "# change working directory to root directory\n",
    "import os\n",
    "\n",
    "os.chdir(\"../\")\n",
    "os.getcwd()\n",
    "# import modules\n",
    "# nlp object, matcher, stop words\n",
    "import en_core_web_lg\n",
    "from spacy.matcher import PhraseMatcher\n",
    "from nltk.corpus import stopwords\n",
    "\n",
    "\n",
    "nlp = en_core_web_lg.load()\n",
    "stop_words = set(stopwords.words('english'))\n",
    "\n",
    "# load skills data base\n",
    "import json\n",
    "\n",
    "with open('./skillNer/skills_processed.json') as json_file:\n",
    "    skills_db = json.load(json_file)\n",
    "\n",
    "\n",
    "\n",
    "\n"
   ],
   "outputs": [],
   "metadata": {}
  },
  {
   "cell_type": "code",
   "execution_count": null,
   "source": [
    "input_2 = \"\"\"\n",
    "Familiarity with server-side languages like PHP, Python, or Node\n",
    "\n",
    "\n",
    "\"\"\"\n",
    "\n",
    "res = skill_extractor.annotate(input_2,tresh=0.1)\n",
    "skill_extractor.display(res)"
   ],
   "outputs": [],
   "metadata": {}
  }
 ],
 "metadata": {
  "orig_nbformat": 4,
  "language_info": {
   "name": "python"
  }
 },
 "nbformat": 4,
 "nbformat_minor": 2
}
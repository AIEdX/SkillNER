{
 "cells": [
  {
   "cell_type": "code",
   "execution_count": 1,
   "metadata": {},
   "outputs": [
    {
     "data": {
      "text/plain": [
       "'/Users/mac/Desktop/SkillNER'"
      ]
     },
     "execution_count": 1,
     "metadata": {},
     "output_type": "execute_result"
    }
   ],
   "source": [
    "# change working directory to root directory\n",
    "import os\n",
    "\n",
    "os.chdir(\"../\")\n",
    "\n",
    "os.getcwd()"
   ]
  },
  {
   "cell_type": "code",
   "execution_count": 2,
   "metadata": {},
   "outputs": [],
   "source": [
    "# gloab params, DBs are found in general_params\n",
    "# import SKILL_DB and S_GRAM_TOOLS_LINKS\n",
    "from skillNer.general_params import SKILL_DB, S_GRAM_TOOLS_LINKS"
   ]
  },
  {
   "cell_type": "code",
   "execution_count": 3,
   "metadata": {},
   "outputs": [],
   "source": [
    "# imports\n",
    "import en_core_web_lg\n",
    "from spacy.matcher import PhraseMatcher\n",
    "from nltk.corpus import stopwords\n",
    "\n",
    "\n",
    "nlp = en_core_web_lg.load()\n",
    "stop_words = set(stopwords.words('english'))"
   ]
  },
  {
   "cell_type": "code",
   "execution_count": 4,
   "metadata": {},
   "outputs": [
    {
     "name": "stdout",
     "output_type": "stream",
     "text": [
      "loading full_matcher ...\n",
      "loading ngram_matcher ...\n",
      "loading uni_gram_matcher ...\n",
      "loading abv_matcher ...\n"
     ]
    }
   ],
   "source": [
    "# test skill extractor\n",
    "from skillNer.skill_extractor_class import SkillExtractor\n",
    "\n",
    "skill_extractor = SkillExtractor(nlp, SKILL_DB, PhraseMatcher, stop_words)\n",
    "\n"
   ]
  },
  {
   "cell_type": "code",
   "execution_count": 8,
   "metadata": {},
   "outputs": [],
   "source": [
    "input_ = 'experience with javascript , front-end  technologies as css and react!'\n",
    "text_annotation = skill_extractor.annotate(input_,tresh=0.5)\n"
   ]
  },
  {
   "cell_type": "code",
   "execution_count": 9,
   "metadata": {},
   "outputs": [
    {
     "name": "stdout",
     "output_type": "stream",
     "text": [
      "{'full_match': [{'doc_node_id': [3, 4],\n",
      "                 'score': 1,\n",
      "                 'skill_id': 'KS6840J6LR0TLQ86LZJC'}],\n",
      " 'ngram_full_match': [],\n",
      " 'ngram_scored': [{'doc_node_id': [9],\n",
      "                   'score': 1,\n",
      "                   'skill_id': 'KSDJCA4E89LB98JAZ7LZ'}],\n",
      " 'skills_abv': [{'doc_node_id': [7],\n",
      "                 'doc_node_value': 'css',\n",
      "                 'skill_id': 'KS121F45VPV8C9W3QFYH'}],\n",
      " 'unigram_full_match': [{'doc_node_id': [2],\n",
      "                         'doc_node_value': 'javascript',\n",
      "                         'score': 1.0,\n",
      "                         'skill_id': 'KS1200771D9CR9LB4MWW'}],\n",
      " 'unigram_scored': []}\n"
     ]
    }
   ],
   "source": [
    "import pprint\n",
    "pprint.pprint(text_annotation['results'])"
   ]
  },
  {
   "cell_type": "code",
   "execution_count": 10,
   "metadata": {},
   "outputs": [
    {
     "data": {
      "text/html": [
       "<span class=\"tex2jax_ignore\"><div class=\"entities\" style=\"line-height: 2.5; direction: ltr\">experience with \n",
       "<mark class=\"entity\" style=\"background: #818CF8; padding: 0.45em 0.6em; margin: 0 0.25em; line-height: 1; border-radius: 0.35em;\">\n",
       "    javascript\n",
       "    <span style=\"font-size: 0.8em; font-weight: bold; line-height: 1; border-radius: 0.35em; vertical-align: middle; margin-left: 0.5rem\">JavaScript (Programming Language)</span>\n",
       "</mark>\n",
       " \n",
       "<mark class=\"entity\" style=\"background: #818CF8; padding: 0.45em 0.6em; margin: 0 0.25em; line-height: 1; border-radius: 0.35em;\">\n",
       "    front end\n",
       "    <span style=\"font-size: 0.8em; font-weight: bold; line-height: 1; border-radius: 0.35em; vertical-align: middle; margin-left: 0.5rem\">Front End (Software Engineering)</span>\n",
       "</mark>\n",
       " technologies as \n",
       "<mark class=\"entity\" style=\"background: #818CF8; padding: 0.45em 0.6em; margin: 0 0.25em; line-height: 1; border-radius: 0.35em;\">\n",
       "    css\n",
       "    <span style=\"font-size: 0.8em; font-weight: bold; line-height: 1; border-radius: 0.35em; vertical-align: middle; margin-left: 0.5rem\">Cascading Style Sheets (CSS)</span>\n",
       "</mark>\n",
       " and \n",
       "<mark class=\"entity\" style=\"background: #818CF8; padding: 0.45em 0.6em; margin: 0 0.25em; line-height: 1; border-radius: 0.35em;\">\n",
       "    react\n",
       "    <span style=\"font-size: 0.8em; font-weight: bold; line-height: 1; border-radius: 0.35em; vertical-align: middle; margin-left: 0.5rem\">React.js</span>\n",
       "</mark>\n",
       "</div></span>"
      ],
      "text/plain": [
       "<IPython.core.display.HTML object>"
      ]
     },
     "metadata": {},
     "output_type": "display_data"
    }
   ],
   "source": [
    "skill_extractor.display(text_annotation)"
   ]
  },
  {
   "cell_type": "code",
   "execution_count": 13,
   "metadata": {},
   "outputs": [
    {
     "data": {
      "text/plain": [
       "{'skill_name': 'CSS Animations',\n",
       " 'skill_cleaned': 'css animations',\n",
       " 'skill_type': 'Hard Skill',\n",
       " 'skill_lemmed': 'css animation',\n",
       " 'skill_stemmed': 'css anim',\n",
       " 'skill_len': 2,\n",
       " 'abbreviation': ''}"
      ]
     },
     "execution_count": 13,
     "metadata": {},
     "output_type": "execute_result"
    }
   ],
   "source": [
    "SKILL_DB['KS122KM662BPX3KW64L9']"
   ]
  },
  {
   "cell_type": "code",
   "execution_count": null,
   "metadata": {},
   "outputs": [],
   "source": []
  }
 ],
 "metadata": {
  "interpreter": {
   "hash": "1e915f0a29dc84041eaeb02b7b1a21c440e37a87b61d44d5e84a515737dc82bc"
  },
  "kernelspec": {
   "display_name": "Python 3",
   "language": "python",
   "name": "python3"
  },
  "language_info": {
   "codemirror_mode": {
    "name": "ipython",
    "version": 3
   },
   "file_extension": ".py",
   "mimetype": "text/x-python",
   "name": "python",
   "nbconvert_exporter": "python",
   "pygments_lexer": "ipython3",
   "version": "3.8.3"
  }
 },
 "nbformat": 4,
 "nbformat_minor": 2
}

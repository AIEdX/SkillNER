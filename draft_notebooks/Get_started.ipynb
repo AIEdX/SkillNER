{
 "cells": [
  {
   "cell_type": "code",
   "execution_count": 2,
   "source": [
    "# change working directory to root directory\r\n",
    "import os\r\n",
    "\r\n",
    "os.chdir(\"../\")\r\n",
    "os.getcwd()"
   ],
   "outputs": [
    {
     "output_type": "execute_result",
     "data": {
      "text/plain": [
       "'c:\\\\Users\\\\HP\\\\Desktop\\\\skillNer-repo\\\\SkillNER'"
      ]
     },
     "metadata": {},
     "execution_count": 2
    }
   ],
   "metadata": {}
  },
  {
   "cell_type": "code",
   "execution_count": 3,
   "source": [
    "# gloab params, DBs are found in general_params\r\n",
    "# import SKILL_DB and S_GRAM_TOOLS_LINKS\r\n",
    "from skillNer.general_params import SKILL_DB, S_GRAM_TOOLS_LINKS"
   ],
   "outputs": [],
   "metadata": {}
  },
  {
   "cell_type": "code",
   "execution_count": 1,
   "source": [
    "# imports\r\n",
    "import en_core_web_lg\r\n",
    "from spacy.matcher import PhraseMatcher\r\n",
    "from nltk.corpus import stopwords\r\n",
    "\r\n",
    "\r\n",
    "nlp = en_core_web_lg.load()\r\n",
    "stop_words = set(stopwords.words('english'))"
   ],
   "outputs": [],
   "metadata": {}
  },
  {
   "cell_type": "code",
   "execution_count": 4,
   "source": [
    "# test skill extractor\r\n",
    "from skillNer.skill_extractor_class import SkillExtractor\r\n",
    "\r\n",
    "skill_extractor = SkillExtractor(nlp, SKILL_DB, PhraseMatcher, stop_words)"
   ],
   "outputs": [
    {
     "output_type": "stream",
     "name": "stdout",
     "text": [
      "loading full_matcher ...\n",
      "loading ngram_matcher ...\n",
      "loading uni_gram_matcher ...\n",
      "loading abv_matcher ...\n"
     ]
    }
   ],
   "metadata": {}
  },
  {
   "cell_type": "code",
   "execution_count": 10,
   "source": [
    "input_ = 'We need an expert in esport management. Fluency in both english and french are mandatory!'\r\n",
    "text_annotation = skill_extractor.annotate(input_)\r\n",
    "text_annotation"
   ],
   "outputs": [
    {
     "output_type": "execute_result",
     "data": {
      "text/plain": [
       "{'text': 'we need an expert in esport management fluency in both english and french are mandatory!',\n",
       " 'results': {'full_match': [],\n",
       "  'ngram_full_match': [{'skill_id': 'ES8AAD06BE8119038221',\n",
       "    'score': 1,\n",
       "    'doc_node_id': [5, 6]}],\n",
       "  'ngram_scored': [{'skill_id': 'KS123K75YYK8VGH90NCS',\n",
       "    'score': 0.59,\n",
       "    'doc_node_id': [10]},\n",
       "   {'skill_id': 'KS1243976G466GV63ZBY', 'score': 0.59, 'doc_node_id': [12]}],\n",
       "  'unigram_scored': [],\n",
       "  'skills_abv': []}}"
      ]
     },
     "metadata": {},
     "execution_count": 10
    }
   ],
   "metadata": {}
  },
  {
   "cell_type": "code",
   "execution_count": 11,
   "source": [
    "skill_extractor.display(text_annotation)"
   ],
   "outputs": [
    {
     "output_type": "display_data",
     "data": {
      "text/plain": [
       "<IPython.core.display.HTML object>"
      ],
      "text/html": [
       "<span class=\"tex2jax_ignore\"><div class=\"entities\" style=\"line-height: 2.5; direction: ltr\">we need an expert in \n",
       "<mark class=\"entity\" style=\"background: #818CF8; padding: 0.45em 0.6em; margin: 0 0.25em; line-height: 1; border-radius: 0.35em;\">\n",
       "    esport management\n",
       "    <span style=\"font-size: 0.8em; font-weight: bold; line-height: 1; border-radius: 0.35em; vertical-align: middle; margin-left: 0.5rem\">eSports Management</span>\n",
       "</mark>\n",
       " fluency in both \n",
       "<mark class=\"entity\" style=\"background: #F472B6; padding: 0.45em 0.6em; margin: 0 0.25em; line-height: 1; border-radius: 0.35em;\">\n",
       "    english\n",
       "    <span style=\"font-size: 0.8em; font-weight: bold; line-height: 1; border-radius: 0.35em; vertical-align: middle; margin-left: 0.5rem\">English Language</span>\n",
       "</mark>\n",
       " and \n",
       "<mark class=\"entity\" style=\"background: #F472B6; padding: 0.45em 0.6em; margin: 0 0.25em; line-height: 1; border-radius: 0.35em;\">\n",
       "    french\n",
       "    <span style=\"font-size: 0.8em; font-weight: bold; line-height: 1; border-radius: 0.35em; vertical-align: middle; margin-left: 0.5rem\">French Language</span>\n",
       "</mark>\n",
       " are mandatory!</div></span>"
      ]
     },
     "metadata": {}
    }
   ],
   "metadata": {}
  }
 ],
 "metadata": {
  "kernelspec": {
   "name": "python3",
   "display_name": "Python 3.8.5 64-bit ('base': conda)"
  },
  "language_info": {
   "codemirror_mode": {
    "name": "ipython",
    "version": 3
   },
   "file_extension": ".py",
   "mimetype": "text/x-python",
   "name": "python",
   "nbconvert_exporter": "python",
   "pygments_lexer": "ipython3",
   "version": "3.8.5"
  },
  "interpreter": {
   "hash": "1e915f0a29dc84041eaeb02b7b1a21c440e37a87b61d44d5e84a515737dc82bc"
  }
 },
 "nbformat": 4,
 "nbformat_minor": 2
}
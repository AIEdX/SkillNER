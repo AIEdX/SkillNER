{
 "cells": [
  {
   "cell_type": "code",
   "execution_count": 1,
   "source": [
    "import os\n",
    "os.chdir(\"../\")\n",
    "  \n",
    "os.getcwd()\n"
   ],
   "outputs": [
    {
     "output_type": "execute_result",
     "data": {
      "text/plain": [
       "'/Users/mac/Desktop/SkillNER'"
      ]
     },
     "metadata": {},
     "execution_count": 1
    }
   ],
   "metadata": {}
  },
  {
   "cell_type": "code",
   "execution_count": 2,
   "source": [
    "import spacy\n",
    "from spacy.matcher import PhraseMatcher\n",
    "from nltk.corpus import stopwords\n",
    "\n",
    "# load default skills data base\n",
    "from skillNer.general_params import SKILL_DB\n",
    "# import skill extractor\n",
    "from skillNer.skill_extractor_class import SkillExtractor\n",
    "\n",
    "\n",
    "# init params of skill extractor\n",
    "nlp = spacy.load(\"en_core_web_lg\")\n",
    "stop_words = set(stopwords.words('english'))\n",
    "\n",
    "# init skill extractor\n",
    "skill_extractor = SkillExtractor(nlp, SKILL_DB, PhraseMatcher, stop_words)\n",
    "\n"
   ],
   "outputs": [
    {
     "output_type": "stream",
     "name": "stdout",
     "text": [
      "loading full_matcher ...\n",
      "loading ngram_matcher ...\n",
      "loading uni_gram_matcher ...\n",
      "loading abv_matcher ...\n"
     ]
    }
   ],
   "metadata": {}
  },
  {
   "cell_type": "code",
   "execution_count": 4,
   "source": [
    "# extract skills from job_description\n",
    "job_description = \"We need an expert in esport management. Fluency in both css, node   english and french is mandatory\"\n",
    "\n",
    "annotations = skill_extractor.annotate(job_description ,debug=True)\n",
    "import pprint\n",
    "pprint.pprint(annotations['logs'])"
   ],
   "outputs": [
    {
     "output_type": "stream",
     "name": "stdout",
     "text": [
      "{'abrv_match': [{'doc_node_id': [10],\n",
      "                 'doc_node_value': 'css',\n",
      "                 'score': 1,\n",
      "                 'skill_id': 'KS121F45VPV8C9W3QFYH'}],\n",
      " 'full_match': [],\n",
      " 'full_ngram': [{'doc_node_id': [5, 6],\n",
      "                 'score': 1,\n",
      "                 'skill_id': 'ES8AAD06BE8119038221'}],\n",
      " 'ngram_scored': [{'doc_node_id': [1],\n",
      "                   'doc_node_value': 'need',\n",
      "                   'score': 0.49,\n",
      "                   'skill_id': 'ESEE2FE3695A215DC6DC'},\n",
      "                  {'doc_node_id': [3],\n",
      "                   'doc_node_value': 'expert',\n",
      "                   'score': 0.5,\n",
      "                   'skill_id': 'KS123RD5VV5WNJLMNH3J'},\n",
      "                  {'doc_node_id': [10],\n",
      "                   'doc_node_value': 'css',\n",
      "                   'score': 0.46,\n",
      "                   'skill_id': 'KS122KN6KY17NGPWFDVB'},\n",
      "                  {'doc_node_id': [11],\n",
      "                   'doc_node_value': 'node',\n",
      "                   'score': 0.3,\n",
      "                   'skill_id': 'KS1272978ZVDGYKBS082'},\n",
      "                  {'doc_node_id': [12],\n",
      "                   'doc_node_value': 'english',\n",
      "                   'score': 0.6,\n",
      "                   'skill_id': 'KS123K75YYK8VGH90NCS'},\n",
      "                  {'doc_node_id': [14],\n",
      "                   'doc_node_value': 'french',\n",
      "                   'score': 0.6,\n",
      "                   'skill_id': 'KS1243976G466GV63ZBY'}],\n",
      " 'unigram_scored': [{'doc_node_id': [11],\n",
      "                     'doc_node_value': 'node',\n",
      "                     'score': 0.9,\n",
      "                     'skill_id': 'KS126ZK60X10ZQ7DRFLR'}],\n",
      " 'unigrqm_full': []}\n"
     ]
    }
   ],
   "metadata": {}
  },
  {
   "cell_type": "code",
   "execution_count": 6,
   "source": [
    "skill_extractor.display(annotations)"
   ],
   "outputs": [
    {
     "output_type": "execute_result",
     "data": {
      "text/plain": [
       "{'skill_name': 'Expert Systems',\n",
       " 'skill_cleaned': 'expert systems',\n",
       " 'skill_type': 'Hard Skill',\n",
       " 'skill_lemmed': 'expert system',\n",
       " 'skill_stemmed': 'expert system',\n",
       " 'skill_len': 2,\n",
       " 'abbreviation': '',\n",
       " 'unique_token': ''}"
      ]
     },
     "metadata": {},
     "execution_count": 6
    }
   ],
   "metadata": {}
  },
  {
   "cell_type": "code",
   "execution_count": null,
   "source": [],
   "outputs": [],
   "metadata": {}
  }
 ],
 "metadata": {
  "kernelspec": {
   "display_name": "Python 3",
   "language": "python",
   "name": "python3"
  },
  "language_info": {
   "codemirror_mode": {
    "name": "ipython",
    "version": 3
   },
   "file_extension": ".py",
   "mimetype": "text/x-python",
   "name": "python",
   "nbconvert_exporter": "python",
   "pygments_lexer": "ipython3",
   "version": "3.8.3"
  }
 },
 "nbformat": 4,
 "nbformat_minor": 4
}
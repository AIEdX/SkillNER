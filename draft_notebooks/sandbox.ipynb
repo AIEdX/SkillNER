{
 "cells": [
  {
   "cell_type": "code",
   "execution_count": 1,
   "metadata": {},
   "outputs": [
    {
     "data": {
      "text/plain": [
       "'/Users/mac/Desktop/SkillNER'"
      ]
     },
     "execution_count": 1,
     "metadata": {},
     "output_type": "execute_result"
    }
   ],
   "source": [
    "import os\n",
    "os.chdir(\"../\")\n",
    "  \n",
    "os.getcwd()\n"
   ]
  },
  {
   "cell_type": "code",
   "execution_count": 2,
   "metadata": {},
   "outputs": [
    {
     "name": "stdout",
     "output_type": "stream",
     "text": [
      "loading full_matcher ...\n",
      "loading abv_matcher ...\n",
      "loading full_uni_matcher ...\n",
      "loading low_form_matcher ...\n",
      "loading token_matcher ...\n"
     ]
    }
   ],
   "source": [
    "import spacy\n",
    "from spacy.matcher import PhraseMatcher\n",
    "from nltk.corpus import stopwords\n",
    "\n",
    "# load default skills data base\n",
    "from skillNer.general_params import SKILL_DB\n",
    "# import skill extractor\n",
    "from skillNer.skill_extractor_class import SkillExtractor\n",
    "\n",
    "\n",
    "# init params of skill extractor\n",
    "nlp = spacy.load(\"en_core_web_lg\")\n",
    "stop_words = set(stopwords.words('english'))\n",
    "\n",
    "# init skill extractor\n",
    "skill_extractor = SkillExtractor(nlp, SKILL_DB, PhraseMatcher, stop_words)\n",
    "\n"
   ]
  },
  {
   "cell_type": "code",
   "execution_count": 16,
   "metadata": {
    "scrolled": false
   },
   "outputs": [
    {
     "name": "stdout",
     "output_type": "stream",
     "text": [
      "224 ms ± 74.3 ms per loop (mean ± std. dev. of 7 runs, 1 loop each)\n"
     ]
    }
   ],
   "source": [
    "#%%timeit\n",
    "# extract skills from job_description\n",
    "job_description = \"\"\"\n",
    "You are a Python Developer with a solid experience in Web development and  esx\n",
    "and have a thoughtful expatriation and manage project . You're passionate and powerful.\n",
    "You are recognized for your ability to evolve within a team and around common projects\n",
    "and you easily adapt in a new environment. javascript and node and french and english\n",
    "\"\"\"\n",
    "\n",
    "\n",
    "annotations = skill_extractor.annotate(job_description )\n",
    "\n",
    "#pprint.pprint(annotations['logs'])"
   ]
  },
  {
   "cell_type": "code",
   "execution_count": 17,
   "metadata": {},
   "outputs": [
    {
     "data": {
      "text/html": [
       "<span class=\"tex2jax_ignore\"><div class=\"entities\" style=\"line-height: 2.5; direction: ltr\">you are a \n",
       "<mark class=\"entity\" style=\"background: #818CF8; padding: 0.45em 0.6em; margin: 0 0.25em; line-height: 1; border-radius: 0.35em;\">\n",
       "    python\n",
       "    <span style=\"font-size: 0.8em; font-weight: bold; line-height: 1; border-radius: 0.35em; vertical-align: middle; margin-left: 0.5rem\">Python (Programming Language)</span>\n",
       "</mark>\n",
       " developer with a solid experience in \n",
       "<mark class=\"entity\" style=\"background: #818CF8; padding: 0.45em 0.6em; margin: 0 0.25em; line-height: 1; border-radius: 0.35em;\">\n",
       "    web development\n",
       "    <span style=\"font-size: 0.8em; font-weight: bold; line-height: 1; border-radius: 0.35em; vertical-align: middle; margin-left: 0.5rem\">Web Development</span>\n",
       "</mark>\n",
       " and \n",
       "<mark class=\"entity\" style=\"background: #818CF8; padding: 0.45em 0.6em; margin: 0 0.25em; line-height: 1; border-radius: 0.35em;\">\n",
       "    esx\n",
       "    <span style=\"font-size: 0.8em; font-weight: bold; line-height: 1; border-radius: 0.35em; vertical-align: middle; margin-left: 0.5rem\">VMware ESX Servers</span>\n",
       "</mark>\n",
       " and have a thoughtful expatriation and \n",
       "<mark class=\"entity\" style=\"background: #818CF8; padding: 0.45em 0.6em; margin: 0 0.25em; line-height: 1; border-radius: 0.35em;\">\n",
       "    manage project\n",
       "    <span style=\"font-size: 0.8em; font-weight: bold; line-height: 1; border-radius: 0.35em; vertical-align: middle; margin-left: 0.5rem\">Project Management</span>\n",
       "</mark>\n",
       " you re passionate and powerful you are recognized for your ability to evolve within a team and around common projects and you easily \n",
       "<mark class=\"entity\" style=\"background: #F472B6; padding: 0.45em 0.6em; margin: 0 0.25em; line-height: 1; border-radius: 0.35em;\">\n",
       "    adapt\n",
       "    <span style=\"font-size: 0.8em; font-weight: bold; line-height: 1; border-radius: 0.35em; vertical-align: middle; margin-left: 0.5rem\">Adaptability</span>\n",
       "</mark>\n",
       " in a new \n",
       "<mark class=\"entity\" style=\"background: #818CF8; padding: 0.45em 0.6em; margin: 0 0.25em; line-height: 1; border-radius: 0.35em;\">\n",
       "    environment\n",
       "    <span style=\"font-size: 0.8em; font-weight: bold; line-height: 1; border-radius: 0.35em; vertical-align: middle; margin-left: 0.5rem\">Environment Management</span>\n",
       "</mark>\n",
       " \n",
       "<mark class=\"entity\" style=\"background: #818CF8; padding: 0.45em 0.6em; margin: 0 0.25em; line-height: 1; border-radius: 0.35em;\">\n",
       "    javascript\n",
       "    <span style=\"font-size: 0.8em; font-weight: bold; line-height: 1; border-radius: 0.35em; vertical-align: middle; margin-left: 0.5rem\">JavaScript (Programming Language)</span>\n",
       "</mark>\n",
       " and \n",
       "<mark class=\"entity\" style=\"background: #818CF8; padding: 0.45em 0.6em; margin: 0 0.25em; line-height: 1; border-radius: 0.35em;\">\n",
       "    node\n",
       "    <span style=\"font-size: 0.8em; font-weight: bold; line-height: 1; border-radius: 0.35em; vertical-align: middle; margin-left: 0.5rem\">Node.js</span>\n",
       "</mark>\n",
       " and \n",
       "<mark class=\"entity\" style=\"background: #F472B6; padding: 0.45em 0.6em; margin: 0 0.25em; line-height: 1; border-radius: 0.35em;\">\n",
       "    french\n",
       "    <span style=\"font-size: 0.8em; font-weight: bold; line-height: 1; border-radius: 0.35em; vertical-align: middle; margin-left: 0.5rem\">French Language</span>\n",
       "</mark>\n",
       " and \n",
       "<mark class=\"entity\" style=\"background: #F472B6; padding: 0.45em 0.6em; margin: 0 0.25em; line-height: 1; border-radius: 0.35em;\">\n",
       "    english\n",
       "    <span style=\"font-size: 0.8em; font-weight: bold; line-height: 1; border-radius: 0.35em; vertical-align: middle; margin-left: 0.5rem\">English Language</span>\n",
       "</mark>\n",
       "</div></span>"
      ],
      "text/plain": [
       "<IPython.core.display.HTML object>"
      ]
     },
     "metadata": {},
     "output_type": "display_data"
    }
   ],
   "source": [
    "skill_extractor.display(annotations)"
   ]
  },
  {
   "cell_type": "code",
   "execution_count": 5,
   "metadata": {},
   "outputs": [
    {
     "data": {
      "text/plain": [
       "{'text': 'you are a python developer with a solid experience in web development and esx and have a thoughtful expatriation and manage project you re passionate and powerful you are recognized for your ability to evolve within a team and around common projects and you easily adapt in a new environment javascript and node and french and english',\n",
       " 'results': {'full_matches': [{'skill_id': 'KS122Z36QK3N5097B5JH',\n",
       "    'doc_node_value': 'web development',\n",
       "    'score': 1,\n",
       "    'doc_node_id': [10, 11]}],\n",
       "  'ngram_scored': [{'skill_id': 'KS125LS6N7WP4S6SFTCK',\n",
       "    'doc_node_id': [3],\n",
       "    'doc_node_value': 'python',\n",
       "    'type': 'fullUni',\n",
       "    'score': 1,\n",
       "    'len': 1},\n",
       "   {'skill_id': 'KS123NQ6N6KV4RM7RTXJ',\n",
       "    'doc_node_id': [13],\n",
       "    'doc_node_value': 'esx',\n",
       "    'type': 'oneToken',\n",
       "    'score': 0.6666666666666666,\n",
       "    'len': 1},\n",
       "   {'skill_id': 'ESE3DCB914A93A90AA1D',\n",
       "    'doc_node_id': [17],\n",
       "    'doc_node_value': 'thoughtful',\n",
       "    'type': 'lowSurf',\n",
       "    'score': 1,\n",
       "    'len': 1},\n",
       "   {'skill_id': 'KS1267F6MSPN366LX7ST',\n",
       "    'doc_node_id': [20, 21],\n",
       "    'doc_node_value': 'manage project',\n",
       "    'type': 'lowSurf',\n",
       "    'score': 1,\n",
       "    'len': 2},\n",
       "   {'skill_id': 'ES3DFC177BFFC0F2828B',\n",
       "    'doc_node_id': [29],\n",
       "    'doc_node_value': 'recognized',\n",
       "    'type': 'lowSurf',\n",
       "    'score': 1,\n",
       "    'len': 1},\n",
       "   {'skill_id': 'KSW9RV7D8GR434DQCIWZ',\n",
       "    'doc_node_id': [40],\n",
       "    'doc_node_value': 'common',\n",
       "    'type': 'lowSurf',\n",
       "    'score': 1,\n",
       "    'len': 1},\n",
       "   {'skill_id': 'KS1267F6MSPN366LX7ST',\n",
       "    'doc_node_id': [41],\n",
       "    'doc_node_value': 'projects',\n",
       "    'type': 'lowSurf',\n",
       "    'score': 1,\n",
       "    'len': 1},\n",
       "   {'skill_id': 'KS120626HMWCXJWJC7VK',\n",
       "    'doc_node_id': [45],\n",
       "    'doc_node_value': 'adapt',\n",
       "    'type': 'lowSurf',\n",
       "    'score': 0.503605,\n",
       "    'len': 1},\n",
       "   {'skill_id': 'ES34A9B47D6EC1BC42D1',\n",
       "    'doc_node_id': [49],\n",
       "    'doc_node_value': 'environment',\n",
       "    'type': 'lowSurf',\n",
       "    'score': 1,\n",
       "    'len': 1},\n",
       "   {'skill_id': 'KS1200771D9CR9LB4MWW',\n",
       "    'doc_node_id': [50],\n",
       "    'doc_node_value': 'javascript',\n",
       "    'type': 'fullUni',\n",
       "    'score': 1,\n",
       "    'len': 1},\n",
       "   {'skill_id': 'KS127296VDYS7ZFWVC46',\n",
       "    'doc_node_id': [52],\n",
       "    'doc_node_value': 'node',\n",
       "    'type': 'lowSurf',\n",
       "    'score': 1,\n",
       "    'len': 1},\n",
       "   {'skill_id': 'KS1243976G466GV63ZBY',\n",
       "    'doc_node_id': [54],\n",
       "    'doc_node_value': 'french',\n",
       "    'type': 'lowSurf',\n",
       "    'score': 1,\n",
       "    'len': 1},\n",
       "   {'skill_id': 'KS123K75YYK8VGH90NCS',\n",
       "    'doc_node_id': [56],\n",
       "    'doc_node_value': 'english',\n",
       "    'type': 'lowSurf',\n",
       "    'score': 1,\n",
       "    'len': 1}]}}"
      ]
     },
     "execution_count": 5,
     "metadata": {},
     "output_type": "execute_result"
    }
   ],
   "source": [
    "annotations"
   ]
  }
 ],
 "metadata": {
  "kernelspec": {
   "display_name": "Python 3",
   "language": "python",
   "name": "python3"
  },
  "language_info": {
   "codemirror_mode": {
    "name": "ipython",
    "version": 3
   },
   "file_extension": ".py",
   "mimetype": "text/x-python",
   "name": "python",
   "nbconvert_exporter": "python",
   "pygments_lexer": "ipython3",
   "version": "3.8.3"
  }
 },
 "nbformat": 4,
 "nbformat_minor": 4
}

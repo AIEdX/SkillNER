{
 "cells": [
  {
   "cell_type": "code",
   "execution_count": 1,
   "metadata": {},
   "outputs": [
    {
     "data": {
      "text/plain": [
       "'/Users/mac/Desktop/SkillNER'"
      ]
     },
     "execution_count": 1,
     "metadata": {},
     "output_type": "execute_result"
    }
   ],
   "source": [
    "import os\n",
    "os.chdir(\"../\")\n",
    "  \n",
    "os.getcwd()\n"
   ]
  },
  {
   "cell_type": "code",
   "execution_count": 2,
   "metadata": {},
   "outputs": [
    {
     "name": "stdout",
     "output_type": "stream",
     "text": [
      "loading full_matcher ...\n",
      "loading ngram_matcher ...\n",
      "loading uni_gram_matcher ...\n",
      "loading abv_matcher ...\n"
     ]
    }
   ],
   "source": [
    "import spacy\n",
    "from spacy.matcher import PhraseMatcher\n",
    "from nltk.corpus import stopwords\n",
    "\n",
    "# load default skills data base\n",
    "from skillNer.general_params import SKILL_DB\n",
    "# import skill extractor\n",
    "from skillNer.skill_extractor_class import SkillExtractor\n",
    "\n",
    "\n",
    "# init params of skill extractor\n",
    "nlp = spacy.load(\"en_core_web_lg\")\n",
    "stop_words = set(stopwords.words('english'))\n",
    "\n",
    "# init skill extractor\n",
    "skill_extractor = SkillExtractor(nlp, SKILL_DB, PhraseMatcher, stop_words)\n",
    "\n"
   ]
  },
  {
   "cell_type": "code",
   "execution_count": 9,
   "metadata": {},
   "outputs": [],
   "source": [
    "# extract skills from job_description\n",
    "job_description = \"\"\"\n",
    "You are a Python Developer with a solid experience in Web development \n",
    "and have a thoughtful expatriation project. You're passionate and powerful.\n",
    "You are recognized for your ability to evolve within a team and around common projects\n",
    "and you easily adapt in a new environment.\n",
    "\"\"\"\n",
    "\n",
    "annotations = skill_extractor.annotate(job_description ,debug=True)\n",
    "import pprint\n",
    "#pprint.pprint(annotations['logs'])"
   ]
  },
  {
   "cell_type": "code",
   "execution_count": 12,
   "metadata": {},
   "outputs": [
    {
     "data": {
      "text/html": [
       "<span class=\"tex2jax_ignore\"><div class=\"entities\" style=\"line-height: 2.5; direction: ltr\">you are a \n",
       "<mark class=\"entity\" style=\"background: #818CF8; padding: 0.45em 0.6em; margin: 0 0.25em; line-height: 1; border-radius: 0.35em;\">\n",
       "    python\n",
       "    <span style=\"font-size: 0.8em; font-weight: bold; line-height: 1; border-radius: 0.35em; vertical-align: middle; margin-left: 0.5rem\">Python (Programming Language)</span>\n",
       "</mark>\n",
       " developer with a \n",
       "<mark class=\"entity\" style=\"background: #818CF8; padding: 0.45em 0.6em; margin: 0 0.25em; line-height: 1; border-radius: 0.35em;\">\n",
       "    solid\n",
       "    <span style=\"font-size: 0.8em; font-weight: bold; line-height: 1; border-radius: 0.35em; vertical-align: middle; margin-left: 0.5rem\">Solids Control</span>\n",
       "</mark>\n",
       " experience in \n",
       "<mark class=\"entity\" style=\"background: #818CF8; padding: 0.45em 0.6em; margin: 0 0.25em; line-height: 1; border-radius: 0.35em;\">\n",
       "    web development\n",
       "    <span style=\"font-size: 0.8em; font-weight: bold; line-height: 1; border-radius: 0.35em; vertical-align: middle; margin-left: 0.5rem\">Web Development</span>\n",
       "</mark>\n",
       " and have a thoughtful expatriation \n",
       "<mark class=\"entity\" style=\"background: #818CF8; padding: 0.45em 0.6em; margin: 0 0.25em; line-height: 1; border-radius: 0.35em;\">\n",
       "    project\n",
       "    <span style=\"font-size: 0.8em; font-weight: bold; line-height: 1; border-radius: 0.35em; vertical-align: middle; margin-left: 0.5rem\">Project Management</span>\n",
       "</mark>\n",
       " you re passionate and powerful you are \n",
       "<mark class=\"entity\" style=\"background: #F472B6; padding: 0.45em 0.6em; margin: 0 0.25em; line-height: 1; border-radius: 0.35em;\">\n",
       "    recognized\n",
       "    <span style=\"font-size: 0.8em; font-weight: bold; line-height: 1; border-radius: 0.35em; vertical-align: middle; margin-left: 0.5rem\">Recognizing Strengths</span>\n",
       "</mark>\n",
       " for your ability to evolve within a \n",
       "<mark class=\"entity\" style=\"background: #F472B6; padding: 0.45em 0.6em; margin: 0 0.25em; line-height: 1; border-radius: 0.35em;\">\n",
       "    team\n",
       "    <span style=\"font-size: 0.8em; font-weight: bold; line-height: 1; border-radius: 0.35em; vertical-align: middle; margin-left: 0.5rem\">Team Management</span>\n",
       "</mark>\n",
       " and around \n",
       "<mark class=\"entity\" style=\"background: #818CF8; padding: 0.45em 0.6em; margin: 0 0.25em; line-height: 1; border-radius: 0.35em;\">\n",
       "    common\n",
       "    <span style=\"font-size: 0.8em; font-weight: bold; line-height: 1; border-radius: 0.35em; vertical-align: middle; margin-left: 0.5rem\">Common Controls</span>\n",
       "</mark>\n",
       " \n",
       "<mark class=\"entity\" style=\"background: #818CF8; padding: 0.45em 0.6em; margin: 0 0.25em; line-height: 1; border-radius: 0.35em;\">\n",
       "    projects\n",
       "    <span style=\"font-size: 0.8em; font-weight: bold; line-height: 1; border-radius: 0.35em; vertical-align: middle; margin-left: 0.5rem\">Project Management</span>\n",
       "</mark>\n",
       " and you easily \n",
       "<mark class=\"entity\" style=\"background: #F472B6; padding: 0.45em 0.6em; margin: 0 0.25em; line-height: 1; border-radius: 0.35em;\">\n",
       "    adapt\n",
       "    <span style=\"font-size: 0.8em; font-weight: bold; line-height: 1; border-radius: 0.35em; vertical-align: middle; margin-left: 0.5rem\">Adaptability</span>\n",
       "</mark>\n",
       " in a \n",
       "<mark class=\"entity\" style=\"background: #818CF8; padding: 0.45em 0.6em; margin: 0 0.25em; line-height: 1; border-radius: 0.35em;\">\n",
       "    new\n",
       "    <span style=\"font-size: 0.8em; font-weight: bold; line-height: 1; border-radius: 0.35em; vertical-align: middle; margin-left: 0.5rem\">New Media</span>\n",
       "</mark>\n",
       " \n",
       "<mark class=\"entity\" style=\"background: #818CF8; padding: 0.45em 0.6em; margin: 0 0.25em; line-height: 1; border-radius: 0.35em;\">\n",
       "    environment\n",
       "    <span style=\"font-size: 0.8em; font-weight: bold; line-height: 1; border-radius: 0.35em; vertical-align: middle; margin-left: 0.5rem\">Environment Management</span>\n",
       "</mark>\n",
       "</div></span>"
      ],
      "text/plain": [
       "<IPython.core.display.HTML object>"
      ]
     },
     "metadata": {},
     "output_type": "display_data"
    }
   ],
   "source": [
    "skill_extractor.display(annotations)"
   ]
  },
  {
   "cell_type": "code",
   "execution_count": 14,
   "metadata": {},
   "outputs": [
    {
     "data": {
      "text/plain": [
       "[{'skill_id': 'KS440RT680984G7ZTYXX',\n",
       "  'doc_node_id': [7],\n",
       "  'doc_node_value': 'solid',\n",
       "  'score': 0.74},\n",
       " {'skill_id': 'KS1267F6MSPN366LX7ST',\n",
       "  'doc_node_id': [17],\n",
       "  'doc_node_value': 'project',\n",
       "  'score': 0.72},\n",
       " {'skill_id': 'ES3DFC177BFFC0F2828B',\n",
       "  'doc_node_id': [25],\n",
       "  'doc_node_value': 'recognized',\n",
       "  'score': 0.73},\n",
       " {'skill_id': 'KS441846K903WT1RYDKJ',\n",
       "  'doc_node_id': [33],\n",
       "  'doc_node_value': 'team',\n",
       "  'score': 0.74},\n",
       " {'skill_id': 'KSW9RV7D8GR434DQCIWZ',\n",
       "  'doc_node_id': [36],\n",
       "  'doc_node_value': 'common',\n",
       "  'score': 0.72},\n",
       " {'skill_id': 'KS1267F6MSPN366LX7ST',\n",
       "  'doc_node_id': [37],\n",
       "  'doc_node_value': 'projects',\n",
       "  'score': 0.72},\n",
       " {'skill_id': 'KS1270N75FCHG3SZXY90',\n",
       "  'doc_node_id': [44],\n",
       "  'doc_node_value': 'new',\n",
       "  'score': 0.71},\n",
       " {'skill_id': 'ES34A9B47D6EC1BC42D1',\n",
       "  'doc_node_id': [45],\n",
       "  'doc_node_value': 'environment',\n",
       "  'score': 0.74}]"
      ]
     },
     "execution_count": 14,
     "metadata": {},
     "output_type": "execute_result"
    }
   ],
   "source": [
    "annotations['results']['ngram_scored']"
   ]
  },
  {
   "cell_type": "code",
   "execution_count": 4,
   "metadata": {},
   "outputs": [
    {
     "data": {
      "text/plain": [
       "{'skill_name': 'Energy Technology',\n",
       " 'skill_cleaned': 'energy technology',\n",
       " 'skill_type': 'Hard Skill',\n",
       " 'skill_lemmed': 'energy technology',\n",
       " 'skill_stemmed': 'energi technolog',\n",
       " 'skill_len': 2,\n",
       " 'abbreviation': '',\n",
       " 'unique_token': '',\n",
       " 'match_on_stemmed': False}"
      ]
     },
     "execution_count": 4,
     "metadata": {},
     "output_type": "execute_result"
    }
   ],
   "source": [
    "SKILL_DB['KS123JQ66Q4B1FXXLZK4']"
   ]
  },
  {
   "cell_type": "code",
   "execution_count": 14,
   "metadata": {},
   "outputs": [],
   "source": [
    "## get edgs \n",
    "import json\n",
    "\n",
    "with open('./test_data/rekrut_31_07_21_translated.json', 'r+') as f:\n",
    "    real_data = json.load(f)"
   ]
  },
  {
   "cell_type": "code",
   "execution_count": 15,
   "metadata": {},
   "outputs": [
    {
     "data": {
      "text/plain": [
       "\"\\n#debug_real_data = {}\\nlen_ = len(real_data)\\nfor i,key in enumerate(list(real_data.keys())[1000:]) : \\n    print(i,i/len_)\\n    ## get texts \\n    logs = []\\n    sure_ids = []\\n    skills_texts = real_data[key]['skills_text']\\n    for text in skills_texts : \\n        try : \\n   \\n                    annotations = skill_extractor.annotate(text ,debug=True)\\n                    full = [m['skill_id'] for m in annotations['results']['full_matches']]\\n                    for f in full : \\n                        sure_ids.append(f)\\n                    logs.append((annotations['text'],annotations['logs']))\\n\\n        except:\\n            print(text)\\n            \\n    debug_real_data[key] = {'skill_bag':sure_ids,\\n                            'logs':logs}\\n    print('---------')\\n\""
      ]
     },
     "execution_count": 15,
     "metadata": {},
     "output_type": "execute_result"
    }
   ],
   "source": [
    "\"\"\"\n",
    "#debug_real_data = {}\n",
    "len_ = len(real_data)\n",
    "for i,key in enumerate(list(real_data.keys())[1000:]) : \n",
    "    print(i,i/len_)\n",
    "    ## get texts \n",
    "    logs = []\n",
    "    sure_ids = []\n",
    "    skills_texts = real_data[key]['skills_text']\n",
    "    for text in skills_texts : \n",
    "        try : \n",
    "   \n",
    "                    annotations = skill_extractor.annotate(text ,debug=True)\n",
    "                    full = [m['skill_id'] for m in annotations['results']['full_matches']]\n",
    "                    for f in full : \n",
    "                        sure_ids.append(f)\n",
    "                    logs.append((annotations['text'],annotations['logs']))\n",
    "\n",
    "        except:\n",
    "            print(text)\n",
    "            \n",
    "    debug_real_data[key] = {'skill_bag':sure_ids,\n",
    "                            'logs':logs}\n",
    "    print('---------')\n",
    "\"\"\""
   ]
  },
  {
   "cell_type": "code",
   "execution_count": 24,
   "metadata": {},
   "outputs": [],
   "source": [
    "#data_logs = {k: v['skill_bag'] for k, v in debug_real_data.items()}"
   ]
  },
  {
   "cell_type": "code",
   "execution_count": 26,
   "metadata": {},
   "outputs": [],
   "source": [
    "#import json\n",
    "#with open('./test_data/rekrut_31_07_21_translated_logs.json', 'w', encoding='utf-8') as f:\n",
    "#    json.dump(data_logs, f, ensure_ascii=False, indent=4)"
   ]
  },
  {
   "cell_type": "code",
   "execution_count": null,
   "metadata": {},
   "outputs": [],
   "source": []
  }
 ],
 "metadata": {
  "kernelspec": {
   "display_name": "Python 3",
   "language": "python",
   "name": "python3"
  },
  "language_info": {
   "codemirror_mode": {
    "name": "ipython",
    "version": 3
   },
   "file_extension": ".py",
   "mimetype": "text/x-python",
   "name": "python",
   "nbconvert_exporter": "python",
   "pygments_lexer": "ipython3",
   "version": "3.8.3"
  }
 },
 "nbformat": 4,
 "nbformat_minor": 4
}

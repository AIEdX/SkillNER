{
 "cells": [
  {
   "cell_type": "code",
   "execution_count": 1,
   "source": [
    "# change working directory to root directory\r\n",
    "import os\r\n",
    "\r\n",
    "os.chdir(\"../\")\r\n",
    "os.getcwd()"
   ],
   "outputs": [
    {
     "output_type": "execute_result",
     "data": {
      "text/plain": [
       "'c:\\\\Users\\\\HP\\\\Desktop\\\\MSDA-skills-extractor\\\\MSDA-jobs-graph'"
      ]
     },
     "metadata": {},
     "execution_count": 1
    }
   ],
   "metadata": {}
  },
  {
   "cell_type": "code",
   "execution_count": 2,
   "source": [
    "example_text = \"Hey, Geeks !, How are you?, you have a good mastery of English language\""
   ],
   "outputs": [],
   "metadata": {}
  },
  {
   "cell_type": "code",
   "execution_count": 3,
   "source": [
    "# test remove punctuation\r\n",
    "from skiller.cleaner import remove_punctuation\r\n",
    "\r\n",
    "remove_punctuation(example_text)"
   ],
   "outputs": [
    {
     "output_type": "execute_result",
     "data": {
      "text/plain": [
       "'Hey Geeks  How are you you have a good mastery of English language'"
      ]
     },
     "metadata": {},
     "execution_count": 3
    }
   ],
   "metadata": {}
  },
  {
   "cell_type": "code",
   "execution_count": 4,
   "source": [
    "# test remove redundant words\r\n",
    "from skiller.cleaner import remove_redundant\r\n",
    "\r\n",
    "remove_redundant(example_text)"
   ],
   "outputs": [
    {
     "output_type": "execute_result",
     "data": {
      "text/plain": [
       "'Hey, Geeks !, How are you?,  a good  English language'"
      ]
     },
     "metadata": {},
     "execution_count": 4
    }
   ],
   "metadata": {}
  },
  {
   "cell_type": "code",
   "execution_count": 5,
   "source": [
    "# test stem text\r\n",
    "from skiller.cleaner import stem_text\r\n",
    "from nltk.stem import PorterStemmer\r\n",
    "\r\n",
    "# define stemmer\r\n",
    "porter = PorterStemmer()\r\n",
    "\r\n",
    "stem_text(remove_punctuation(example_text), porter)"
   ],
   "outputs": [
    {
     "output_type": "execute_result",
     "data": {
      "text/plain": [
       "'hey geek  how are you you have a good masteri of english languag'"
      ]
     },
     "metadata": {},
     "execution_count": 5
    }
   ],
   "metadata": {}
  },
  {
   "cell_type": "code",
   "execution_count": 6,
   "source": [
    "# test remove extra space\r\n",
    "from skiller.cleaner import remove_extra_space\r\n",
    "example_text = \" Hello  Badr    MOUFAD! How are   you doing? \"\r\n",
    "\r\n",
    "remove_extra_space(example_text)"
   ],
   "outputs": [
    {
     "output_type": "execute_result",
     "data": {
      "text/plain": [
       "'Hello Badr MOUFAD! How are you doing?'"
      ]
     },
     "metadata": {},
     "execution_count": 6
    }
   ],
   "metadata": {}
  },
  {
   "cell_type": "code",
   "execution_count": 7,
   "source": [
    "# !pip install -U pip setuptools wheel\r\n",
    "# !pip install -U spacy\r\n",
    "# !python -m spacy download en_core_web_sm"
   ],
   "outputs": [],
   "metadata": {}
  },
  {
   "cell_type": "code",
   "execution_count": 8,
   "source": [
    "# import en_core_web_sm\r\n",
    "# nlp = en_core_web_sm.load()"
   ],
   "outputs": [],
   "metadata": {}
  },
  {
   "cell_type": "code",
   "execution_count": 9,
   "source": [
    "# !python -m spacy download en_core_web_lg"
   ],
   "outputs": [],
   "metadata": {}
  },
  {
   "cell_type": "code",
   "execution_count": 11,
   "source": [
    "# test lem\r\n",
    "import en_core_web_lg\r\n",
    "from skiller.cleaner import lem_text\r\n",
    "\r\n",
    "# load\r\n",
    "nlp = en_core_web_lg.load()\r\n",
    "\r\n",
    "lem_text(example_text, nlp)"
   ],
   "outputs": [
    {
     "output_type": "execute_result",
     "data": {
      "text/plain": [
       "'  Hello   Badr     MOUFAD ! how be    you do ?'"
      ]
     },
     "metadata": {},
     "execution_count": 11
    }
   ],
   "metadata": {}
  },
  {
   "cell_type": "code",
   "execution_count": 2,
   "source": [
    "from skiller.fetch import fetch_skills_list"
   ],
   "outputs": [],
   "metadata": {}
  },
  {
   "cell_type": "code",
   "execution_count": 3,
   "source": [
    "skills_df = fetch_skills_list()"
   ],
   "outputs": [],
   "metadata": {}
  },
  {
   "cell_type": "code",
   "execution_count": 4,
   "source": [
    "skills_df"
   ],
   "outputs": [
    {
     "output_type": "execute_result",
     "data": {
      "text/plain": [
       "                         id  \\\n",
       "0      KS120P86XDXZJT3B7KVJ   \n",
       "1      KS126XS6CQCFGC3NG79X   \n",
       "2      KS1200B62W5ZF38RJ7TD   \n",
       "3      KS126XW78QJCF4TRV2X7   \n",
       "4      KS126XY68BNKXSBSLPYS   \n",
       "...                     ...   \n",
       "31174  KS127T473F8B2RTFT1FM   \n",
       "31175  ESB5778D0DE341B0FBD2   \n",
       "31176  KS440T963CCSV4W7BWJ5   \n",
       "31177  ES3E9032BC8D03E83CFA   \n",
       "31178  KS442937527R0CF82H0M   \n",
       "\n",
       "                                                 infoUrl  \\\n",
       "0      https://skills.emsidata.com/skills/KS120P86XDX...   \n",
       "1      https://skills.emsidata.com/skills/KS126XS6CQC...   \n",
       "2      https://skills.emsidata.com/skills/KS1200B62W5...   \n",
       "3      https://skills.emsidata.com/skills/KS126XW78QJ...   \n",
       "4      https://skills.emsidata.com/skills/KS126XY68BN...   \n",
       "...                                                  ...   \n",
       "31174  https://skills.emsidata.com/skills/KS127T473F8...   \n",
       "31175  https://skills.emsidata.com/skills/ESB5778D0DE...   \n",
       "31176  https://skills.emsidata.com/skills/KS440T963CC...   \n",
       "31177  https://skills.emsidata.com/skills/ES3E9032BC8...   \n",
       "31178  https://skills.emsidata.com/skills/KS442937527...   \n",
       "\n",
       "                                               name type.id      type.name  \n",
       "0      (American Society For Quality) ASQ Certified     ST3  Certification  \n",
       "1                                   .NET Assemblies     ST1     Hard Skill  \n",
       "2                                    .NET Framework     ST1     Hard Skill  \n",
       "3                                  .NET Framework 1     ST1     Hard Skill  \n",
       "4                                  .NET Framework 3     ST1     Hard Skill  \n",
       "...                                             ...     ...            ...  \n",
       "31174                                       phpList     ST1     Hard Skill  \n",
       "31175                                         qTest     ST1     Hard Skill  \n",
       "31176                                    spatialNET     ST1     Hard Skill  \n",
       "31177                                       watchOS     ST1     Hard Skill  \n",
       "31178                                          z/OS     ST1     Hard Skill  \n",
       "\n",
       "[31179 rows x 5 columns]"
      ],
      "text/html": [
       "<div>\n",
       "<style scoped>\n",
       "    .dataframe tbody tr th:only-of-type {\n",
       "        vertical-align: middle;\n",
       "    }\n",
       "\n",
       "    .dataframe tbody tr th {\n",
       "        vertical-align: top;\n",
       "    }\n",
       "\n",
       "    .dataframe thead th {\n",
       "        text-align: right;\n",
       "    }\n",
       "</style>\n",
       "<table border=\"1\" class=\"dataframe\">\n",
       "  <thead>\n",
       "    <tr style=\"text-align: right;\">\n",
       "      <th></th>\n",
       "      <th>id</th>\n",
       "      <th>infoUrl</th>\n",
       "      <th>name</th>\n",
       "      <th>type.id</th>\n",
       "      <th>type.name</th>\n",
       "    </tr>\n",
       "  </thead>\n",
       "  <tbody>\n",
       "    <tr>\n",
       "      <th>0</th>\n",
       "      <td>KS120P86XDXZJT3B7KVJ</td>\n",
       "      <td>https://skills.emsidata.com/skills/KS120P86XDX...</td>\n",
       "      <td>(American Society For Quality) ASQ Certified</td>\n",
       "      <td>ST3</td>\n",
       "      <td>Certification</td>\n",
       "    </tr>\n",
       "    <tr>\n",
       "      <th>1</th>\n",
       "      <td>KS126XS6CQCFGC3NG79X</td>\n",
       "      <td>https://skills.emsidata.com/skills/KS126XS6CQC...</td>\n",
       "      <td>.NET Assemblies</td>\n",
       "      <td>ST1</td>\n",
       "      <td>Hard Skill</td>\n",
       "    </tr>\n",
       "    <tr>\n",
       "      <th>2</th>\n",
       "      <td>KS1200B62W5ZF38RJ7TD</td>\n",
       "      <td>https://skills.emsidata.com/skills/KS1200B62W5...</td>\n",
       "      <td>.NET Framework</td>\n",
       "      <td>ST1</td>\n",
       "      <td>Hard Skill</td>\n",
       "    </tr>\n",
       "    <tr>\n",
       "      <th>3</th>\n",
       "      <td>KS126XW78QJCF4TRV2X7</td>\n",
       "      <td>https://skills.emsidata.com/skills/KS126XW78QJ...</td>\n",
       "      <td>.NET Framework 1</td>\n",
       "      <td>ST1</td>\n",
       "      <td>Hard Skill</td>\n",
       "    </tr>\n",
       "    <tr>\n",
       "      <th>4</th>\n",
       "      <td>KS126XY68BNKXSBSLPYS</td>\n",
       "      <td>https://skills.emsidata.com/skills/KS126XY68BN...</td>\n",
       "      <td>.NET Framework 3</td>\n",
       "      <td>ST1</td>\n",
       "      <td>Hard Skill</td>\n",
       "    </tr>\n",
       "    <tr>\n",
       "      <th>...</th>\n",
       "      <td>...</td>\n",
       "      <td>...</td>\n",
       "      <td>...</td>\n",
       "      <td>...</td>\n",
       "      <td>...</td>\n",
       "    </tr>\n",
       "    <tr>\n",
       "      <th>31174</th>\n",
       "      <td>KS127T473F8B2RTFT1FM</td>\n",
       "      <td>https://skills.emsidata.com/skills/KS127T473F8...</td>\n",
       "      <td>phpList</td>\n",
       "      <td>ST1</td>\n",
       "      <td>Hard Skill</td>\n",
       "    </tr>\n",
       "    <tr>\n",
       "      <th>31175</th>\n",
       "      <td>ESB5778D0DE341B0FBD2</td>\n",
       "      <td>https://skills.emsidata.com/skills/ESB5778D0DE...</td>\n",
       "      <td>qTest</td>\n",
       "      <td>ST1</td>\n",
       "      <td>Hard Skill</td>\n",
       "    </tr>\n",
       "    <tr>\n",
       "      <th>31176</th>\n",
       "      <td>KS440T963CCSV4W7BWJ5</td>\n",
       "      <td>https://skills.emsidata.com/skills/KS440T963CC...</td>\n",
       "      <td>spatialNET</td>\n",
       "      <td>ST1</td>\n",
       "      <td>Hard Skill</td>\n",
       "    </tr>\n",
       "    <tr>\n",
       "      <th>31177</th>\n",
       "      <td>ES3E9032BC8D03E83CFA</td>\n",
       "      <td>https://skills.emsidata.com/skills/ES3E9032BC8...</td>\n",
       "      <td>watchOS</td>\n",
       "      <td>ST1</td>\n",
       "      <td>Hard Skill</td>\n",
       "    </tr>\n",
       "    <tr>\n",
       "      <th>31178</th>\n",
       "      <td>KS442937527R0CF82H0M</td>\n",
       "      <td>https://skills.emsidata.com/skills/KS442937527...</td>\n",
       "      <td>z/OS</td>\n",
       "      <td>ST1</td>\n",
       "      <td>Hard Skill</td>\n",
       "    </tr>\n",
       "  </tbody>\n",
       "</table>\n",
       "<p>31179 rows × 5 columns</p>\n",
       "</div>"
      ]
     },
     "metadata": {},
     "execution_count": 4
    }
   ],
   "metadata": {}
  },
  {
   "cell_type": "code",
   "execution_count": 12,
   "source": [
    "# test cleaner class\r\n",
    "from skillNer.cleaner import Cleaner\r\n",
    "\r\n",
    "# init cleaner\r\n",
    "cleaner = Cleaner(\r\n",
    "    to_lowercase=False,\r\n",
    "    exclude_cleaning_function=[\"stem_text\"]\r\n",
    "    )\r\n",
    "\r\n",
    "# apply cleaner to example text\r\n",
    "example_text = \"Hey, Geeks !, How are you?,    you have a good mastery of English language\"\r\n",
    "cleaner(example_text)"
   ],
   "outputs": [
    {
     "output_type": "execute_result",
     "data": {
      "text/plain": [
       "'hey Geeks how be you a good english language'"
      ]
     },
     "metadata": {},
     "execution_count": 12
    }
   ],
   "metadata": {}
  },
  {
   "cell_type": "code",
   "execution_count": 2,
   "source": [
    "from skillNer.cleaner import find_index_phrase\r\n",
    "\r\n",
    "text_example = \"as team spirit they have a good mastery of English\"\r\n",
    "phrase = \"as team\"\r\n",
    "\r\n",
    "find_index_phrase(phrase, text_example, text_example.split(\" \"))"
   ],
   "outputs": [
    {
     "output_type": "execute_result",
     "data": {
      "text/plain": [
       "False"
      ]
     },
     "metadata": {},
     "execution_count": 2
    }
   ],
   "metadata": {}
  },
  {
   "cell_type": "code",
   "execution_count": 8,
   "source": [
    "text_example = \"mastery of\" # \"as team spirit they have a good mastery of English\"\r\n",
    "phrase = \"mastery of\"\r\n",
    "\r\n",
    "find_index_phrase(phrase, text_example)"
   ],
   "outputs": [
    {
     "output_type": "execute_result",
     "data": {
      "text/plain": [
       "[0, 1]"
      ]
     },
     "metadata": {},
     "execution_count": 8
    }
   ],
   "metadata": {}
  }
 ],
 "metadata": {
  "orig_nbformat": 4,
  "language_info": {
   "name": "python",
   "version": "3.8.5",
   "mimetype": "text/x-python",
   "codemirror_mode": {
    "name": "ipython",
    "version": 3
   },
   "pygments_lexer": "ipython3",
   "nbconvert_exporter": "python",
   "file_extension": ".py"
  },
  "kernelspec": {
   "name": "python3",
   "display_name": "Python 3.8.5 64-bit ('base': conda)"
  },
  "interpreter": {
   "hash": "1e915f0a29dc84041eaeb02b7b1a21c440e37a87b61d44d5e84a515737dc82bc"
  }
 },
 "nbformat": 4,
 "nbformat_minor": 2
}
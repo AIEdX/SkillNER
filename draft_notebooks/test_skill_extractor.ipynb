{
 "cells": [
  {
   "cell_type": "code",
   "execution_count": 1,
   "source": [
    "# change working directory to root directory\r\n",
    "import os\r\n",
    "\r\n",
    "os.chdir(\"../\")\r\n",
    "os.getcwd()"
   ],
   "outputs": [
    {
     "output_type": "execute_result",
     "data": {
      "text/plain": [
       "'c:\\\\Users\\\\HP\\\\Desktop\\\\MSDA-skills-extractor\\\\MSDA-jobs-graph'"
      ]
     },
     "metadata": {},
     "execution_count": 1
    }
   ],
   "metadata": {}
  },
  {
   "cell_type": "code",
   "execution_count": 2,
   "source": [
    "# import modules\r\n",
    "# nlp object, matcher, stop words\r\n",
    "import en_core_web_lg\r\n",
    "from spacy.matcher import PhraseMatcher\r\n",
    "from nltk.corpus import stopwords\r\n",
    "\r\n",
    "\r\n",
    "nlp = en_core_web_lg.load()\r\n",
    "stop_words = set(stopwords.words('english'))"
   ],
   "outputs": [],
   "metadata": {}
  },
  {
   "cell_type": "code",
   "execution_count": 3,
   "source": [
    "# load skills data base\r\n",
    "import json\r\n",
    "\r\n",
    "with open('./skillNer/skills_processed.json') as json_file:\r\n",
    "    skills_db = json.load(json_file)"
   ],
   "outputs": [],
   "metadata": {}
  },
  {
   "cell_type": "code",
   "execution_count": 4,
   "source": [
    "# test skill extractor\r\n",
    "from skillNer.skill_extractor_class import SkillExtractor\r\n",
    "\r\n",
    "skill_extractor = SkillExtractor(nlp, skills_db, PhraseMatcher, stop_words)\r\n",
    "\r\n",
    "input_ = 'Hey, Geeks !, How are you?, you having a good mastery of English language as well experience in'"
   ],
   "outputs": [
    {
     "output_type": "stream",
     "name": "stdout",
     "text": [
      "loading full_matcher ...\n",
      "loading ngram_matcher ...\n",
      "loading uni_gram_matcher ...\n"
     ]
    }
   ],
   "metadata": {}
  },
  {
   "cell_type": "code",
   "execution_count": 5,
   "source": [
    "skill_extractor(input_)"
   ],
   "outputs": [
    {
     "output_type": "execute_result",
     "data": {
      "text/plain": [
       "{'full_match': [{'skill_id': 'KS123K75YYK8VGH90NCS',\n",
       "   'doc_node_value': 'english language',\n",
       "   'doc_node_id': [13, 14]}],\n",
       " 'ngram_full_match': [],\n",
       " 'ngram_scored': [],\n",
       " 'unigram_scored': []}"
      ]
     },
     "metadata": {},
     "execution_count": 5
    }
   ],
   "metadata": {}
  },
  {
   "cell_type": "code",
   "execution_count": 9,
   "source": [
    "input_2 = 'A good experience in esport management is an asset, fluency in both english and french is mandatory'\r\n",
    "\r\n",
    "skill_extractor(input_2)"
   ],
   "outputs": [
    {
     "output_type": "execute_result",
     "data": {
      "text/plain": [
       "{'full_match': [],\n",
       " 'ngram_full_match': [{'skill_id': 'ES8AAD06BE8119038221',\n",
       "   'doc_node_value': 'esport management',\n",
       "   'doc_node_id': [4, 5]}],\n",
       " 'ngram_scored': [{'skill_id': 'KS1218P5Y0HGBD3Z4L3Q',\n",
       "   'score': 0.58,\n",
       "   'doc_node_id': [12]},\n",
       "  {'skill_id': 'KS1243976G466GV63ZBY', 'score': 0.57, 'doc_node_id': [14]}],\n",
       " 'unigram_scored': []}"
      ]
     },
     "metadata": {},
     "execution_count": 9
    }
   ],
   "metadata": {}
  }
 ],
 "metadata": {
  "orig_nbformat": 4,
  "language_info": {
   "name": "python",
   "version": "3.8.5",
   "mimetype": "text/x-python",
   "codemirror_mode": {
    "name": "ipython",
    "version": 3
   },
   "pygments_lexer": "ipython3",
   "nbconvert_exporter": "python",
   "file_extension": ".py"
  },
  "kernelspec": {
   "name": "python3",
   "display_name": "Python 3.8.5 64-bit ('base': conda)"
  },
  "interpreter": {
   "hash": "1e915f0a29dc84041eaeb02b7b1a21c440e37a87b61d44d5e84a515737dc82bc"
  }
 },
 "nbformat": 4,
 "nbformat_minor": 2
}
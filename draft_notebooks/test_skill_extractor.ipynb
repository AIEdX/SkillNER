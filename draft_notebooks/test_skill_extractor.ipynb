{
 "cells": [
  {
   "cell_type": "code",
   "execution_count": 1,
   "source": [
    "# change working directory to root directory\n",
    "import os\n",
    "\n",
    "os.chdir(\"../\")\n",
    "os.getcwd()"
   ],
   "outputs": [
    {
     "output_type": "execute_result",
     "data": {
      "text/plain": [
       "'/Users/mac/Desktop/SkillNER'"
      ]
     },
     "metadata": {},
     "execution_count": 1
    }
   ],
   "metadata": {}
  },
  {
   "cell_type": "code",
   "execution_count": 2,
   "source": [
    "# import modules\n",
    "# nlp object, matcher, stop words\n",
    "import en_core_web_lg\n",
    "from spacy.matcher import PhraseMatcher\n",
    "from nltk.corpus import stopwords\n",
    "\n",
    "\n",
    "nlp = en_core_web_lg.load()\n",
    "stop_words = set(stopwords.words('english'))"
   ],
   "outputs": [],
   "metadata": {}
  },
  {
   "cell_type": "code",
   "execution_count": 3,
   "source": [
    "# load skills data base\n",
    "import json\n",
    "\n",
    "with open('./skillNer/skills_processed.json') as json_file:\n",
    "    skills_db = json.load(json_file)"
   ],
   "outputs": [],
   "metadata": {}
  },
  {
   "cell_type": "code",
   "execution_count": 4,
   "source": [
    "# test skill extractor\n",
    "from skillNer.skill_extractor_class import SkillExtractor\n",
    "\n",
    "skill_extractor = SkillExtractor(nlp, skills_db, PhraseMatcher, stop_words)\n",
    "\n",
    "input_ = 'Hey, Geeks !, How are you?, you having a good mastery of English language as well experience in'"
   ],
   "outputs": [
    {
     "output_type": "stream",
     "name": "stdout",
     "text": [
      "loading full_matcher ...\n",
      "loading ngram_matcher ...\n",
      "loading uni_gram_matcher ...\n"
     ]
    }
   ],
   "metadata": {}
  },
  {
   "cell_type": "code",
   "execution_count": 5,
   "source": [
    "skill_extractor.annotate(input_)"
   ],
   "outputs": [
    {
     "output_type": "execute_result",
     "data": {
      "text/plain": [
       "{'text': 'hey geeks ! how are you? you having a good mastery of english language as well experience in',\n",
       " 'results': {'full_match': [{'skill_id': 'KS123K75YYK8VGH90NCS',\n",
       "    'score': 1,\n",
       "    'doc_node_id': [13, 14]}],\n",
       "  'ngram_full_match': [],\n",
       "  'ngram_scored': [],\n",
       "  'unigram_scored': []}}"
      ]
     },
     "metadata": {},
     "execution_count": 5
    }
   ],
   "metadata": {}
  },
  {
   "cell_type": "code",
   "execution_count": 10,
   "source": [
    "input_2 = \"\"\"\n",
    "Experience with the front-end basics: HTML5, CSS3, and JS\n",
    "\n",
    "\n",
    "\"\"\"\n",
    "\n",
    "res = skill_extractor.annotate(input_2,tresh=0)\n",
    "res"
   ],
   "outputs": [
    {
     "output_type": "execute_result",
     "data": {
      "text/plain": [
       "{'text': 'experience with the frontend basics html5 css3 and js',\n",
       " 'results': {'full_match': [],\n",
       "  'ngram_full_match': [],\n",
       "  'ngram_scored': [{'skill_id': 'KS1244K6176NLVWV02B6',\n",
       "    'score': 0.34,\n",
       "    'doc_node_id': [3]},\n",
       "   {'skill_id': 'KS1200C76YN33ZYXH04X', 'score': 0.48, 'doc_node_id': [4]}],\n",
       "  'unigram_scored': [{'skill_id': 'KS120RM619V18NJXTHV1',\n",
       "    'doc_node_id': [5],\n",
       "    'doc_node_value': 'html5',\n",
       "    'score': 1.0}]}}"
      ]
     },
     "metadata": {},
     "execution_count": 10
    }
   ],
   "metadata": {}
  },
  {
   "cell_type": "code",
   "execution_count": 7,
   "source": [
    "skill_extractor.display(res)\n"
   ],
   "outputs": [
    {
     "output_type": "display_data",
     "data": {
      "text/plain": [
       "<IPython.core.display.HTML object>"
      ],
      "text/html": [
       "<span class=\"tex2jax_ignore\"><div class=\"entities\" style=\"line-height: 2.5; direction: ltr\">experience with the frontend basics \n",
       "<mark class=\"entity\" style=\"background: #818CF8; padding: 0.45em 0.6em; margin: 0 0.25em; line-height: 1; border-radius: 0.35em;\">\n",
       "    html5\n",
       "    <span style=\"font-size: 0.8em; font-weight: bold; line-height: 1; border-radius: 0.35em; vertical-align: middle; margin-left: 0.5rem\">HTML5</span>\n",
       "</mark>\n",
       " css3 and js</div></span>"
      ]
     },
     "metadata": {}
    }
   ],
   "metadata": {}
  },
  {
   "cell_type": "code",
   "execution_count": null,
   "source": [],
   "outputs": [],
   "metadata": {}
  }
 ],
 "metadata": {
  "orig_nbformat": 4,
  "language_info": {
   "name": "python",
   "version": "3.8.3",
   "mimetype": "text/x-python",
   "codemirror_mode": {
    "name": "ipython",
    "version": 3
   },
   "pygments_lexer": "ipython3",
   "nbconvert_exporter": "python",
   "file_extension": ".py"
  },
  "kernelspec": {
   "name": "python3",
   "display_name": "Python 3.8.3 64-bit ('base': conda)"
  },
  "interpreter": {
   "hash": "944a1532151a99d48d16b3e84ec9a8e493addeeb3f0e62b8cbc1b33d091f83dc"
  }
 },
 "nbformat": 4,
 "nbformat_minor": 2
}
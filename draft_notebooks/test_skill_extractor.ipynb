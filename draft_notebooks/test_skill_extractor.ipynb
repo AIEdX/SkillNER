{
 "cells": [
  {
   "cell_type": "code",
   "execution_count": 1,
   "source": [
    "# change working directory to root directory\r\n",
    "import os\r\n",
    "\r\n",
    "os.chdir(\"../\")\r\n",
    "os.getcwd()"
   ],
   "outputs": [
    {
     "output_type": "execute_result",
     "data": {
      "text/plain": [
       "'c:\\\\Users\\\\HP\\\\Desktop\\\\skillNer-repo\\\\SkillNER'"
      ]
     },
     "metadata": {},
     "execution_count": 1
    }
   ],
   "metadata": {}
  },
  {
   "cell_type": "code",
   "execution_count": 2,
   "source": [
    "# import modules\r\n",
    "# nlp object, matcher, stop words\r\n",
    "import en_core_web_lg\r\n",
    "from spacy.matcher import PhraseMatcher\r\n",
    "from nltk.corpus import stopwords\r\n",
    "\r\n",
    "\r\n",
    "nlp = en_core_web_lg.load()\r\n",
    "stop_words = set(stopwords.words('english'))"
   ],
   "outputs": [],
   "metadata": {}
  },
  {
   "cell_type": "code",
   "execution_count": 3,
   "source": [
    "# load skills data base\r\n",
    "import json\r\n",
    "\r\n",
    "with open('./skillNer/skills_processed.json') as json_file:\r\n",
    "    skills_db = json.load(json_file)"
   ],
   "outputs": [],
   "metadata": {}
  },
  {
   "cell_type": "code",
   "execution_count": 4,
   "source": [
    "# test skill extractor\r\n",
    "from skillNer.skill_extractor_class import SkillExtractor\r\n",
    "\r\n",
    "skill_extractor = SkillExtractor(nlp, skills_db, PhraseMatcher, stop_words)\r\n",
    "\r\n",
    "input_ = 'Hey, Geeks !, How are you?, you having a good mastery of English language as well experience in'"
   ],
   "outputs": [
    {
     "output_type": "stream",
     "name": "stdout",
     "text": [
      "loading full_matcher ...\n",
      "loading ngram_matcher ...\n",
      "loading uni_gram_matcher ...\n",
      "loading abv_matcher ...\n"
     ]
    }
   ],
   "metadata": {}
  },
  {
   "cell_type": "code",
   "execution_count": 5,
   "source": [
    "skill_extractor.annotate(input_)"
   ],
   "outputs": [
    {
     "output_type": "execute_result",
     "data": {
      "text/plain": [
       "{'text': 'hey geeks ! how are you? you having a good mastery of english language as well experience in',\n",
       " 'results': {'full_match': [{'skill_id': 'KS123K75YYK8VGH90NCS',\n",
       "    'score': 1,\n",
       "    'doc_node_id': [13, 14]}],\n",
       "  'ngram_full_match': [],\n",
       "  'ngram_scored': [],\n",
       "  'unigram_scored': [],\n",
       "  'skills_abv': []}}"
      ]
     },
     "metadata": {},
     "execution_count": 5
    }
   ],
   "metadata": {}
  },
  {
   "cell_type": "code",
   "execution_count": 8,
   "source": [
    "input_2 = \"\"\"\r\n",
    "Familiarity with modern CSS practices, e.g. LESS, SASS, CSS-in-JS\r\n",
    "\r\n",
    "\r\n",
    "\"\"\"\r\n",
    "\r\n",
    "res = skill_extractor.annotate(input_2,tresh=0.1)\r\n",
    "res"
   ],
   "outputs": [
    {
     "output_type": "execute_result",
     "data": {
      "text/plain": [
       "{'text': 'familiarity with modern css practices eg less sass cssinjs',\n",
       " 'results': {'full_match': [],\n",
       "  'ngram_full_match': [],\n",
       "  'ngram_scored': [{'skill_id': 'ES1DF763066050E66F72',\n",
       "    'score': 0.43,\n",
       "    'doc_node_id': [2]},\n",
       "   {'skill_id': 'KS122KN6KY17NGPWFDVB', 'score': 0.44, 'doc_node_id': [3]}],\n",
       "  'unigram_scored': [{'skill_id': 'ESFEFEFDBA0B3BC39881',\n",
       "    'doc_node_id': [7],\n",
       "    'doc_node_value': 'sass',\n",
       "    'score': 1.0}],\n",
       "  'skills_abv': [{'skill_id': 'KS121R66TFGLPZ0YFL0K',\n",
       "    'doc_node_value': 'css',\n",
       "    'doc_node_id': [3]},\n",
       "   {'skill_id': 'ES47C00018E96ED19CD3',\n",
       "    'doc_node_value': 'css',\n",
       "    'doc_node_id': [3]},\n",
       "   {'skill_id': 'KS1229W69KZQGN7F4JCN',\n",
       "    'doc_node_value': 'css',\n",
       "    'doc_node_id': [3]},\n",
       "   {'skill_id': 'KS1219X6Z77JSGD70VYL',\n",
       "    'doc_node_value': 'css',\n",
       "    'doc_node_id': [3]},\n",
       "   {'skill_id': 'KS121F45VPV8C9W3QFYH',\n",
       "    'doc_node_value': 'css',\n",
       "    'doc_node_id': [3]},\n",
       "   {'skill_id': 'KS121R5722DPFT3WHG63',\n",
       "    'doc_node_value': 'css',\n",
       "    'doc_node_id': [3]},\n",
       "   {'skill_id': 'KS121R2779BQ9Q528TP2',\n",
       "    'doc_node_value': 'css',\n",
       "    'doc_node_id': [3]},\n",
       "   {'skill_id': 'KS125CS6MGSWWVSM86FW',\n",
       "    'doc_node_value': 'css',\n",
       "    'doc_node_id': [3]},\n",
       "   {'skill_id': 'KS121KC61M9DD04W4LKC',\n",
       "    'doc_node_value': 'css',\n",
       "    'doc_node_id': [3]},\n",
       "   {'skill_id': 'KS1219Y64Y4FLF8NML8B',\n",
       "    'doc_node_value': 'css',\n",
       "    'doc_node_id': [3]},\n",
       "   {'skill_id': 'ESE2A687082F92D67561',\n",
       "    'doc_node_value': 'eg',\n",
       "    'doc_node_id': [5]},\n",
       "   {'skill_id': 'KS123B26CZ9TGB90RW51',\n",
       "    'doc_node_value': 'eg',\n",
       "    'doc_node_id': [5]},\n",
       "   {'skill_id': 'KS123BV6S9NFXC76FZB4',\n",
       "    'doc_node_value': 'eg',\n",
       "    'doc_node_id': [5]},\n",
       "   {'skill_id': 'KS127W55XV3DBWP8B9WW',\n",
       "    'doc_node_value': 'eg',\n",
       "    'doc_node_id': [5]},\n",
       "   {'skill_id': 'KS123P372J7257CSV0B8',\n",
       "    'doc_node_value': 'eg',\n",
       "    'doc_node_id': [5]},\n",
       "   {'skill_id': 'KS1245G6WVWZQPPBYHT8',\n",
       "    'doc_node_value': 'eg',\n",
       "    'doc_node_id': [5]},\n",
       "   {'skill_id': 'KS1224K5X8BS35LZQ0QZ',\n",
       "    'doc_node_value': 'eg',\n",
       "    'doc_node_id': [5]},\n",
       "   {'skill_id': 'ES34D93808B7EAB821ED',\n",
       "    'doc_node_value': 'eg',\n",
       "    'doc_node_id': [5]},\n",
       "   {'skill_id': 'KS123B26FD2N004Q34KD',\n",
       "    'doc_node_value': 'eg',\n",
       "    'doc_node_id': [5]},\n",
       "   {'skill_id': 'KS123D468JYLL79DY8MH',\n",
       "    'doc_node_value': 'eg',\n",
       "    'doc_node_id': [5]},\n",
       "   {'skill_id': 'KS123L274RPCSNHMDC9V',\n",
       "    'doc_node_value': 'eg',\n",
       "    'doc_node_id': [5]},\n",
       "   {'skill_id': 'KS123DG673Q9SN83NDD9',\n",
       "    'doc_node_value': 'eg',\n",
       "    'doc_node_id': [5]},\n",
       "   {'skill_id': 'KS120LJ5ZX2JQ21KZ00Y',\n",
       "    'doc_node_value': 'eg',\n",
       "    'doc_node_id': [5]},\n",
       "   {'skill_id': 'KS1203870JVGL4NN4W7Z',\n",
       "    'doc_node_value': 'eg',\n",
       "    'doc_node_id': [5]},\n",
       "   {'skill_id': 'KS123MW6482T145TVPJV',\n",
       "    'doc_node_value': 'eg',\n",
       "    'doc_node_id': [5]},\n",
       "   {'skill_id': 'KS123K16RR5PRRN1S5LH',\n",
       "    'doc_node_value': 'eg',\n",
       "    'doc_node_id': [5]},\n",
       "   {'skill_id': 'KS123L26Z5LV32TYYS85',\n",
       "    'doc_node_value': 'eg',\n",
       "    'doc_node_id': [5]},\n",
       "   {'skill_id': 'ESFEFEFDBA0B3BC39881',\n",
       "    'doc_node_value': 'sass',\n",
       "    'doc_node_id': [7]}]}}"
      ]
     },
     "metadata": {},
     "execution_count": 8
    }
   ],
   "metadata": {}
  },
  {
   "cell_type": "code",
   "execution_count": 9,
   "source": [
    "skill_extractor.display(res)\r\n"
   ],
   "outputs": [
    {
     "output_type": "error",
     "ename": "KeyError",
     "evalue": "'Certification'",
     "traceback": [
      "\u001b[1;31m---------------------------------------------------------------------------\u001b[0m",
      "\u001b[1;31mKeyError\u001b[0m                                  Traceback (most recent call last)",
      "\u001b[1;32m<ipython-input-9-05d2e1d35cc7>\u001b[0m in \u001b[0;36m<module>\u001b[1;34m\u001b[0m\n\u001b[1;32m----> 1\u001b[1;33m \u001b[0mskill_extractor\u001b[0m\u001b[1;33m.\u001b[0m\u001b[0mdisplay\u001b[0m\u001b[1;33m(\u001b[0m\u001b[0mres\u001b[0m\u001b[1;33m)\u001b[0m\u001b[1;33m\u001b[0m\u001b[1;33m\u001b[0m\u001b[0m\n\u001b[0m",
      "\u001b[1;32mc:\\Users\\HP\\Desktop\\skillNer-repo\\SkillNER\\skillNer\\skill_extractor_class.py\u001b[0m in \u001b[0;36mdisplay\u001b[1;34m(self, results)\u001b[0m\n\u001b[0;32m    116\u001b[0m             \u001b[1;31m# highlight matched skills\u001b[0m\u001b[1;33m\u001b[0m\u001b[1;33m\u001b[0m\u001b[1;33m\u001b[0m\u001b[0m\n\u001b[0;32m    117\u001b[0m             colors[entity['label']\n\u001b[1;32m--> 118\u001b[1;33m                    ] = SKILL_TO_COLOR[self.skills_db[skill_id]['skill_type']]\n\u001b[0m\u001b[0;32m    119\u001b[0m             \u001b[0mcolors_id\u001b[0m\u001b[1;33m.\u001b[0m\u001b[0mappend\u001b[0m\u001b[1;33m(\u001b[0m\u001b[0mentity\u001b[0m\u001b[1;33m[\u001b[0m\u001b[1;34m'label'\u001b[0m\u001b[1;33m]\u001b[0m\u001b[1;33m)\u001b[0m\u001b[1;33m\u001b[0m\u001b[1;33m\u001b[0m\u001b[0m\n\u001b[0;32m    120\u001b[0m \u001b[1;33m\u001b[0m\u001b[0m\n",
      "\u001b[1;31mKeyError\u001b[0m: 'Certification'"
     ]
    }
   ],
   "metadata": {}
  },
  {
   "cell_type": "code",
   "execution_count": null,
   "source": [],
   "outputs": [],
   "metadata": {}
  }
 ],
 "metadata": {
  "orig_nbformat": 4,
  "language_info": {
   "name": "python",
   "version": "3.8.5",
   "mimetype": "text/x-python",
   "codemirror_mode": {
    "name": "ipython",
    "version": 3
   },
   "pygments_lexer": "ipython3",
   "nbconvert_exporter": "python",
   "file_extension": ".py"
  },
  "kernelspec": {
   "name": "python3",
   "display_name": "Python 3.8.5 64-bit ('base': conda)"
  },
  "interpreter": {
   "hash": "1e915f0a29dc84041eaeb02b7b1a21c440e37a87b61d44d5e84a515737dc82bc"
  }
 },
 "nbformat": 4,
 "nbformat_minor": 2
}
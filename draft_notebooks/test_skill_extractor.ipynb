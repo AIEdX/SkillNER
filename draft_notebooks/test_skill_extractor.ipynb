{
 "cells": [
  {
   "cell_type": "code",
   "execution_count": 4,
   "source": [
    "# change working directory to root directory\n",
    "import os\n",
    "\n",
    "os.chdir(\"../\")\n",
    "os.getcwd()"
   ],
   "outputs": [
    {
     "output_type": "execute_result",
     "data": {
      "text/plain": [
       "'/Users/mac/Desktop/SkillNER'"
      ]
     },
     "metadata": {},
     "execution_count": 4
    }
   ],
   "metadata": {}
  },
  {
   "cell_type": "code",
   "execution_count": 5,
   "source": [
    "# import modules\n",
    "# nlp object, matcher, stop words\n",
    "import en_core_web_lg\n",
    "from spacy.matcher import PhraseMatcher\n",
    "from nltk.corpus import stopwords\n",
    "\n",
    "\n",
    "nlp = en_core_web_lg.load()\n",
    "stop_words = set(stopwords.words('english'))"
   ],
   "outputs": [],
   "metadata": {}
  },
  {
   "cell_type": "code",
   "execution_count": 6,
   "source": [
    "# load skills data base\n",
    "import json\n",
    "\n",
    "with open('./skillNer/skills_processed.json') as json_file:\n",
    "    skills_db = json.load(json_file)"
   ],
   "outputs": [],
   "metadata": {}
  },
  {
   "cell_type": "code",
   "execution_count": 7,
   "source": [
    "# test skill extractor\n",
    "from skillNer.skill_extractor_class import SkillExtractor\n",
    "\n",
    "skill_extractor = SkillExtractor(nlp, skills_db, PhraseMatcher, stop_words)\n",
    "\n",
    "input_ = 'Hey, Geeks !, How are you?, you having a good mastery of English language as well experience in'"
   ],
   "outputs": [
    {
     "output_type": "stream",
     "name": "stdout",
     "text": [
      "loading full_matcher ...\n",
      "loading ngram_matcher ...\n",
      "loading uni_gram_matcher ...\n"
     ]
    }
   ],
   "metadata": {}
  },
  {
   "cell_type": "code",
   "execution_count": 8,
   "source": [
    "skill_extractor(input_)"
   ],
   "outputs": [
    {
     "output_type": "execute_result",
     "data": {
      "text/plain": [
       "{'full_match': [{'skill_id': 'KS123K75YYK8VGH90NCS',\n",
       "   'score': 1,\n",
       "   'doc_node_id': [13, 14]}],\n",
       " 'ngram_full_match': [],\n",
       " 'ngram_scored': [],\n",
       " 'unigram_scored': []}"
      ]
     },
     "metadata": {},
     "execution_count": 8
    }
   ],
   "metadata": {}
  },
  {
   "cell_type": "code",
   "execution_count": null,
   "source": [
    "input_2 = 'A good experience in esport management is an asset, fluency in both english and french is mandatory'\n",
    "\n",
    "skill_extractor(input_2)"
   ],
   "outputs": [
    {
     "output_type": "execute_result",
     "data": {
      "text/plain": [
       "{'full_match': [],\n",
       " 'ngram_full_match': [{'skill_id': 'ES8AAD06BE8119038221',\n",
       "   'doc_node_value': 'esport management',\n",
       "   'doc_node_id': [4, 5]}],\n",
       " 'ngram_scored': [{'skill_id': 'KS1218P5Y0HGBD3Z4L3Q',\n",
       "   'score': 0.58,\n",
       "   'doc_node_id': [12]},\n",
       "  {'skill_id': 'KS1243976G466GV63ZBY', 'score': 0.57, 'doc_node_id': [14]}],\n",
       " 'unigram_scored': []}"
      ]
     },
     "metadata": {},
     "execution_count": 6
    }
   ],
   "metadata": {}
  },
  {
   "cell_type": "code",
   "execution_count": null,
   "source": [],
   "outputs": [],
   "metadata": {}
  }
 ],
 "metadata": {
  "orig_nbformat": 4,
  "language_info": {
   "name": "python",
   "version": "3.8.3",
   "mimetype": "text/x-python",
   "codemirror_mode": {
    "name": "ipython",
    "version": 3
   },
   "pygments_lexer": "ipython3",
   "nbconvert_exporter": "python",
   "file_extension": ".py"
  },
  "kernelspec": {
   "name": "python3",
   "display_name": "Python 3.8.3 64-bit ('base': conda)"
  },
  "interpreter": {
   "hash": "944a1532151a99d48d16b3e84ec9a8e493addeeb3f0e62b8cbc1b33d091f83dc"
  }
 },
 "nbformat": 4,
 "nbformat_minor": 2
}
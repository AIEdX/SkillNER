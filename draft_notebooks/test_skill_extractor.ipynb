{
 "cells": [
  {
   "cell_type": "code",
   "execution_count": 1,
   "source": [
    "# change working directory to root directory\r\n",
    "import os\r\n",
    "\r\n",
    "os.chdir(\"../\")\r\n",
    "os.getcwd()"
   ],
   "outputs": [
    {
     "output_type": "execute_result",
     "data": {
      "text/plain": [
       "'c:\\\\Users\\\\HP\\\\Desktop\\\\skillNer-repo\\\\SkillNER'"
      ]
     },
     "metadata": {},
     "execution_count": 1
    }
   ],
   "metadata": {}
  },
  {
   "cell_type": "code",
   "execution_count": 2,
   "source": [
    "# import modules\r\n",
    "# nlp object, matcher, stop words\r\n",
    "import en_core_web_lg\r\n",
    "from spacy.matcher import PhraseMatcher\r\n",
    "from nltk.corpus import stopwords\r\n",
    "\r\n",
    "\r\n",
    "nlp = en_core_web_lg.load()\r\n",
    "stop_words = set(stopwords.words('english'))"
   ],
   "outputs": [],
   "metadata": {}
  },
  {
   "cell_type": "code",
   "execution_count": 3,
   "source": [
    "# load skills data base\r\n",
    "import json\r\n",
    "\r\n",
    "with open('./skillNer/skills_processed.json') as json_file:\r\n",
    "    skills_db = json.load(json_file)"
   ],
   "outputs": [],
   "metadata": {}
  },
  {
   "cell_type": "code",
   "execution_count": 4,
   "source": [
    "# test skill extractor\r\n",
    "from skillNer.skill_extractor_class import SkillExtractor\r\n",
    "\r\n",
    "skill_extractor = SkillExtractor(nlp, skills_db, PhraseMatcher, stop_words)\r\n",
    "\r\n",
    "input_ = 'Hey, Geeks !, How are you?, you having a good mastery of English language as well experience in'"
   ],
   "outputs": [
    {
     "output_type": "stream",
     "name": "stdout",
     "text": [
      "loading full_matcher ...\n",
      "loading ngram_matcher ...\n",
      "loading uni_gram_matcher ...\n"
     ]
    }
   ],
   "metadata": {}
  },
  {
   "cell_type": "code",
   "execution_count": 5,
   "source": [
    "skill_extractor.annotate(input_)"
   ],
   "outputs": [
    {
     "output_type": "execute_result",
     "data": {
      "text/plain": [
       "{'text': 'hey geeks ! how are you? you having a good mastery of english language as well experience in',\n",
       " 'results': {'full_match': [{'skill_id': 'KS123K75YYK8VGH90NCS',\n",
       "    'score': 1,\n",
       "    'doc_node_id': [13, 14]}],\n",
       "  'ngram_full_match': [],\n",
       "  'ngram_scored': [],\n",
       "  'unigram_scored': []}}"
      ]
     },
     "metadata": {},
     "execution_count": 5
    }
   ],
   "metadata": {}
  },
  {
   "cell_type": "code",
   "execution_count": 6,
   "source": [
    "input_2 = 'A good experience in esport management is an asset, fluency in both english and french is mandatory and accountability '\r\n",
    "\r\n",
    "res = skill_extractor.annotate(input_2)"
   ],
   "outputs": [],
   "metadata": {}
  },
  {
   "cell_type": "code",
   "execution_count": 7,
   "source": [
    "skill_extractor.display(res)\r\n"
   ],
   "outputs": [
    {
     "output_type": "display_data",
     "data": {
      "text/plain": [
       "<IPython.core.display.HTML object>"
      ],
      "text/html": [
       "<span class=\"tex2jax_ignore\"><div class=\"entities\" style=\"line-height: 2.5; direction: ltr\">a good experience in \n",
       "<mark class=\"entity\" style=\"background: #818CF8; padding: 0.45em 0.6em; margin: 0 0.25em; line-height: 1; border-radius: 0.35em;\">\n",
       "    esport management\n",
       "    <span style=\"font-size: 0.8em; font-weight: bold; line-height: 1; border-radius: 0.35em; vertical-align: middle; margin-left: 0.5rem\">eSports Management</span>\n",
       "</mark>\n",
       " is an asset fluency in both \n",
       "<mark class=\"entity\" style=\"background: #818CF8; padding: 0.45em 0.6em; margin: 0 0.25em; line-height: 1; border-radius: 0.35em;\">\n",
       "    english\n",
       "    <span style=\"font-size: 0.8em; font-weight: bold; line-height: 1; border-radius: 0.35em; vertical-align: middle; margin-left: 0.5rem\">Business English</span>\n",
       "</mark>\n",
       " and \n",
       "<mark class=\"entity\" style=\"background: #F472B6; padding: 0.45em 0.6em; margin: 0 0.25em; line-height: 1; border-radius: 0.35em;\">\n",
       "    french\n",
       "    <span style=\"font-size: 0.8em; font-weight: bold; line-height: 1; border-radius: 0.35em; vertical-align: middle; margin-left: 0.5rem\">French Language</span>\n",
       "</mark>\n",
       " is mandatory and \n",
       "<mark class=\"entity\" style=\"background: #F472B6; padding: 0.45em 0.6em; margin: 0 0.25em; line-height: 1; border-radius: 0.35em;\">\n",
       "    accountability\n",
       "    <span style=\"font-size: 0.8em; font-weight: bold; line-height: 1; border-radius: 0.35em; vertical-align: middle; margin-left: 0.5rem\">Accountability</span>\n",
       "</mark>\n",
       "\n",
       "<mark class=\"entity\" style=\"background: #818CF8; padding: 0.45em 0.6em; margin: 0 0.25em; line-height: 1; border-radius: 0.35em;\">\n",
       "    accountability\n",
       "    <span style=\"font-size: 0.8em; font-weight: bold; line-height: 1; border-radius: 0.35em; vertical-align: middle; margin-left: 0.5rem\">Accounting</span>\n",
       "</mark>\n",
       "</div></span>"
      ]
     },
     "metadata": {}
    }
   ],
   "metadata": {}
  },
  {
   "cell_type": "code",
   "execution_count": null,
   "source": [],
   "outputs": [],
   "metadata": {}
  }
 ],
 "metadata": {
  "orig_nbformat": 4,
  "language_info": {
   "name": "python",
   "version": "3.8.5",
   "mimetype": "text/x-python",
   "codemirror_mode": {
    "name": "ipython",
    "version": 3
   },
   "pygments_lexer": "ipython3",
   "nbconvert_exporter": "python",
   "file_extension": ".py"
  },
  "kernelspec": {
   "name": "python3",
   "display_name": "Python 3.8.5 64-bit ('base': conda)"
  },
  "interpreter": {
   "hash": "1e915f0a29dc84041eaeb02b7b1a21c440e37a87b61d44d5e84a515737dc82bc"
  }
 },
 "nbformat": 4,
 "nbformat_minor": 2
}
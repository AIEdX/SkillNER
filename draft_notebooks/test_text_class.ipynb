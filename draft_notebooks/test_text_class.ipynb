{
 "cells": [
  {
   "cell_type": "code",
   "execution_count": 1,
   "metadata": {},
   "outputs": [
    {
     "data": {
      "text/plain": [
       "'/Users/mac/Desktop/msda_labour_graph/MSDA jobs graph '"
      ]
     },
     "execution_count": 1,
     "metadata": {},
     "output_type": "execute_result"
    }
   ],
   "source": [
    "# change working directory to root directory\n",
    "import os\n",
    "\n",
    "os.chdir(\"../\")\n",
    "os.getcwd()"
   ]
  },
  {
   "cell_type": "code",
   "execution_count": 2,
   "metadata": {},
   "outputs": [],
   "source": [
    "import pandas as pd"
   ]
  },
  {
   "cell_type": "code",
   "execution_count": 3,
   "metadata": {},
   "outputs": [],
   "source": [
    "from skillNer.text_class import Text\n",
    "\n",
    "example_text = \"Hey, Geeks !, How are you?, you having a good mastery of English language as well experience in\" \n",
    "        \n",
    "\n",
    "# build text object\n",
    "text = Text(example_text)"
   ]
  },
  {
   "cell_type": "code",
   "execution_count": 4,
   "metadata": {},
   "outputs": [
    {
     "data": {
      "text/html": [
       "<div>\n",
       "<style scoped>\n",
       "    .dataframe tbody tr th:only-of-type {\n",
       "        vertical-align: middle;\n",
       "    }\n",
       "\n",
       "    .dataframe tbody tr th {\n",
       "        vertical-align: top;\n",
       "    }\n",
       "\n",
       "    .dataframe thead th {\n",
       "        text-align: right;\n",
       "    }\n",
       "</style>\n",
       "<table border=\"1\" class=\"dataframe\">\n",
       "  <thead>\n",
       "    <tr style=\"text-align: right;\">\n",
       "      <th></th>\n",
       "      <th>raw word</th>\n",
       "      <th>is stop word</th>\n",
       "      <th>is matchable</th>\n",
       "      <th>stemmed</th>\n",
       "      <th>lemmed</th>\n",
       "    </tr>\n",
       "  </thead>\n",
       "  <tbody>\n",
       "    <tr>\n",
       "      <th>0</th>\n",
       "      <td>hey</td>\n",
       "      <td>False</td>\n",
       "      <td>True</td>\n",
       "      <td>hey</td>\n",
       "      <td>hey</td>\n",
       "    </tr>\n",
       "    <tr>\n",
       "      <th>1</th>\n",
       "      <td>geeks</td>\n",
       "      <td>False</td>\n",
       "      <td>True</td>\n",
       "      <td>geek</td>\n",
       "      <td>geek</td>\n",
       "    </tr>\n",
       "    <tr>\n",
       "      <th>2</th>\n",
       "      <td>how</td>\n",
       "      <td>True</td>\n",
       "      <td>True</td>\n",
       "      <td>how</td>\n",
       "      <td>how</td>\n",
       "    </tr>\n",
       "    <tr>\n",
       "      <th>3</th>\n",
       "      <td>are</td>\n",
       "      <td>True</td>\n",
       "      <td>True</td>\n",
       "      <td>are</td>\n",
       "      <td>be</td>\n",
       "    </tr>\n",
       "    <tr>\n",
       "      <th>4</th>\n",
       "      <td>you</td>\n",
       "      <td>True</td>\n",
       "      <td>True</td>\n",
       "      <td>you</td>\n",
       "      <td>you</td>\n",
       "    </tr>\n",
       "    <tr>\n",
       "      <th>5</th>\n",
       "      <td>you</td>\n",
       "      <td>True</td>\n",
       "      <td>True</td>\n",
       "      <td>you</td>\n",
       "      <td>you</td>\n",
       "    </tr>\n",
       "    <tr>\n",
       "      <th>6</th>\n",
       "      <td>having</td>\n",
       "      <td>False</td>\n",
       "      <td>True</td>\n",
       "      <td>have</td>\n",
       "      <td>have</td>\n",
       "    </tr>\n",
       "    <tr>\n",
       "      <th>7</th>\n",
       "      <td>a</td>\n",
       "      <td>True</td>\n",
       "      <td>True</td>\n",
       "      <td>a</td>\n",
       "      <td>a</td>\n",
       "    </tr>\n",
       "    <tr>\n",
       "      <th>8</th>\n",
       "      <td>good</td>\n",
       "      <td>False</td>\n",
       "      <td>False</td>\n",
       "      <td>good</td>\n",
       "      <td>good</td>\n",
       "    </tr>\n",
       "    <tr>\n",
       "      <th>9</th>\n",
       "      <td>mastery</td>\n",
       "      <td>False</td>\n",
       "      <td>False</td>\n",
       "      <td>masteri</td>\n",
       "      <td>mastery</td>\n",
       "    </tr>\n",
       "    <tr>\n",
       "      <th>10</th>\n",
       "      <td>of</td>\n",
       "      <td>True</td>\n",
       "      <td>False</td>\n",
       "      <td>of</td>\n",
       "      <td>of</td>\n",
       "    </tr>\n",
       "    <tr>\n",
       "      <th>11</th>\n",
       "      <td>english</td>\n",
       "      <td>False</td>\n",
       "      <td>True</td>\n",
       "      <td>english</td>\n",
       "      <td>english</td>\n",
       "    </tr>\n",
       "    <tr>\n",
       "      <th>12</th>\n",
       "      <td>language</td>\n",
       "      <td>False</td>\n",
       "      <td>True</td>\n",
       "      <td>languag</td>\n",
       "      <td>language</td>\n",
       "    </tr>\n",
       "    <tr>\n",
       "      <th>13</th>\n",
       "      <td>as</td>\n",
       "      <td>True</td>\n",
       "      <td>True</td>\n",
       "      <td>as</td>\n",
       "      <td>as</td>\n",
       "    </tr>\n",
       "    <tr>\n",
       "      <th>14</th>\n",
       "      <td>well</td>\n",
       "      <td>True</td>\n",
       "      <td>True</td>\n",
       "      <td>well</td>\n",
       "      <td>well</td>\n",
       "    </tr>\n",
       "    <tr>\n",
       "      <th>15</th>\n",
       "      <td>experience</td>\n",
       "      <td>False</td>\n",
       "      <td>False</td>\n",
       "      <td>experi</td>\n",
       "      <td>experience</td>\n",
       "    </tr>\n",
       "    <tr>\n",
       "      <th>16</th>\n",
       "      <td>in</td>\n",
       "      <td>True</td>\n",
       "      <td>False</td>\n",
       "      <td>in</td>\n",
       "      <td>in</td>\n",
       "    </tr>\n",
       "  </tbody>\n",
       "</table>\n",
       "</div>"
      ],
      "text/plain": [
       "      raw word  is stop word  is matchable stemmed       lemmed\n",
       "0          hey         False          True      hey         hey\n",
       "1        geeks         False          True     geek        geek\n",
       "2          how          True          True      how         how\n",
       "3          are          True          True      are          be\n",
       "4          you          True          True      you         you\n",
       "5          you          True          True      you         you\n",
       "6       having         False          True     have        have\n",
       "7            a          True          True        a           a\n",
       "8         good         False         False     good        good\n",
       "9      mastery         False         False  masteri     mastery\n",
       "10          of          True         False       of          of\n",
       "11     english         False          True  english     english\n",
       "12    language         False          True  languag    language\n",
       "13          as          True          True       as          as\n",
       "14        well          True          True     well        well\n",
       "15  experience         False         False   experi  experience\n",
       "16          in          True         False       in          in"
      ]
     },
     "execution_count": 4,
     "metadata": {},
     "output_type": "execute_result"
    }
   ],
   "source": [
    "# summary\n",
    "arr = [\n",
    "    [text[i], text[i].is_stop_word, text[i].is_matchable, text[i].stemmed, text[i].lemmed]\n",
    "for i in range(len(text))]\n",
    "\n",
    "df = pd.DataFrame(arr, columns=[\"raw word\", \"is stop word\", \"is matchable\", \"stemmed \", \"lemmed\"])\n",
    "\n",
    "df"
   ]
  },
  {
   "cell_type": "code",
   "execution_count": 47,
   "metadata": {},
   "outputs": [
    {
     "name": "stdout",
     "output_type": "stream",
     "text": [
      "hey geeks how are you you having a good mastery of english language as well experience in\n"
     ]
    }
   ],
   "source": [
    "print(text.transformed_text)"
   ]
  },
  {
   "cell_type": "code",
   "execution_count": 15,
   "metadata": {},
   "outputs": [
    {
     "name": "stdout",
     "output_type": "stream",
     "text": [
      "Hey, Geeks !, How are you?, you have a good mastery of English language\n",
      "********\n",
      "********\n",
      "hey geek how are you you have a good masteri of english languag\n",
      "********\n",
      "********\n",
      "hey geek how be you you have a good mastery of english language\n"
     ]
    }
   ],
   "source": [
    "# print raw text, stem, lem\n",
    "print(text)\n",
    "print(\"********\")\n",
    "print(\"********\")\n",
    "print(text.stemmed())\n",
    "print(\"********\")\n",
    "print(\"********\")\n",
    "print(text.lemmed())"
   ]
  },
  {
   "cell_type": "code",
   "execution_count": 6,
   "metadata": {},
   "outputs": [
    {
     "data": {
      "text/plain": [
       "<skillNer.text_class.Text at 0x161579d4b20>"
      ]
     },
     "execution_count": 6,
     "metadata": {},
     "output_type": "execute_result"
    }
   ],
   "source": [
    "Text(\"Badr MOUFAD is good emplyee\")"
   ]
  }
 ],
 "metadata": {
  "interpreter": {
   "hash": "1e915f0a29dc84041eaeb02b7b1a21c440e37a87b61d44d5e84a515737dc82bc"
  },
  "kernelspec": {
   "display_name": "Python 3",
   "language": "python",
   "name": "python3"
  },
  "language_info": {
   "codemirror_mode": {
    "name": "ipython",
    "version": 3
   },
   "file_extension": ".py",
   "mimetype": "text/x-python",
   "name": "python",
   "nbconvert_exporter": "python",
   "pygments_lexer": "ipython3",
   "version": "3.8.3"
  }
 },
 "nbformat": 4,
 "nbformat_minor": 2
}
